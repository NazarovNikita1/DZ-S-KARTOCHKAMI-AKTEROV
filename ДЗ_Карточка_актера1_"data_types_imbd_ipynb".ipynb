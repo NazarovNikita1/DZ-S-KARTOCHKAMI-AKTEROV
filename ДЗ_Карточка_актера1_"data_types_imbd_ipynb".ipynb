{
  "nbformat": 4,
  "nbformat_minor": 0,
  "metadata": {
    "colab": {
      "provenance": [],
      "include_colab_link": true
    },
    "kernelspec": {
      "name": "python3",
      "display_name": "Python 3"
    },
    "language_info": {
      "name": "python"
    }
  },
  "cells": [
    {
      "cell_type": "markdown",
      "metadata": {
        "id": "view-in-github",
        "colab_type": "text"
      },
      "source": [
        "<a href=\"https://colab.research.google.com/github/NazarovNikita1/Domashka-17-oct/blob/main/%D0%94%D0%97_%D0%9A%D0%B0%D1%80%D1%82%D0%BE%D1%87%D0%BA%D0%B0_%D0%B0%D0%BA%D1%82%D0%B5%D1%80%D0%B01_%22data_types_imbd_ipynb%22.ipynb\" target=\"_parent\"><img src=\"https://colab.research.google.com/assets/colab-badge.svg\" alt=\"Open In Colab\"/></a>"
      ]
    },
    {
      "cell_type": "markdown",
      "source": [
        "```\n",
        "MIT License\n",
        "\n",
        "Copyright (c) 2023 Victoria Firsanova\n",
        "\n",
        "Permission is hereby granted, free of charge, to any person obtaining a copy of this software and associated documentation files (the \"Software\"), to deal in the Software without restriction, including without limitation the rights to use, copy, modify, merge, publish, distribute, sublicense, and/or sell copies of the Software, and to permit persons to whom the Software is furnished to do so, subject to the following conditions:\n",
        "\n",
        "The above copyright notice and this permission notice shall be included in all copies or substantial portions of the Software.\n",
        "\n",
        "THE SOFTWARE IS PROVIDED \"AS IS\", WITHOUT WARRANTY OF ANY KIND, EXPRESS OR IMPLIED, INCLUDING BUT NOT LIMITED TO THE WARRANTIES OF MERCHANTABILITY, FITNESS FOR A PARTICULAR PURPOSE AND NONINFRINGEMENT. IN NO EVENT SHALL THE AUTHORS OR COPYRIGHT HOLDERS BE LIABLE FOR ANY CLAIM, DAMAGES OR OTHER LIABILITY, WHETHER IN AN ACTION OF CONTRACT, TORT OR OTHERWISE, ARISING FROM, OUT OF OR IN CONNECTION WITH THE SOFTWARE OR THE USE OR OTHER DEALINGS IN THE SOFTWARE.\n",
        "```"
      ],
      "metadata": {
        "id": "6cQvzaYa5Z9C"
      }
    },
    {
      "cell_type": "markdown",
      "source": [
        "Работаем с Cinemagoer: https://cinemagoer.github.io/"
      ],
      "metadata": {
        "id": "NDJ9wtCQ24UT"
      }
    },
    {
      "cell_type": "code",
      "source": [
        "!pip install cinemagoer"
      ],
      "metadata": {
        "id": "dZB9wR7Cq6DP",
        "colab": {
          "base_uri": "https://localhost:8080/"
        },
        "outputId": "b451b207-76e2-435b-bc70-192f9625e44c"
      },
      "execution_count": null,
      "outputs": [
        {
          "output_type": "stream",
          "name": "stdout",
          "text": [
            "Collecting cinemagoer\n",
            "  Downloading cinemagoer-2023.5.1-py3-none-any.whl (297 kB)\n",
            "\u001b[?25l     \u001b[90m━━━━━━━━━━━━━━━━━━━━━━━━━━━━━━━━━━━━━━━━\u001b[0m \u001b[32m0.0/297.2 kB\u001b[0m \u001b[31m?\u001b[0m eta \u001b[36m-:--:--\u001b[0m\r\u001b[2K     \u001b[91m━━━━━━━━━━━━━━━━━━━━\u001b[0m\u001b[91m╸\u001b[0m\u001b[90m━━━━━━━━━━━━━━━━━━━\u001b[0m \u001b[32m153.6/297.2 kB\u001b[0m \u001b[31m4.4 MB/s\u001b[0m eta \u001b[36m0:00:01\u001b[0m\r\u001b[2K     \u001b[90m━━━━━━━━━━━━━━━━━━━━━━━━━━━━━━━━━━━━━━━━\u001b[0m \u001b[32m297.2/297.2 kB\u001b[0m \u001b[31m6.2 MB/s\u001b[0m eta \u001b[36m0:00:00\u001b[0m\n",
            "\u001b[?25hRequirement already satisfied: SQLAlchemy in /usr/local/lib/python3.10/dist-packages (from cinemagoer) (2.0.22)\n",
            "Requirement already satisfied: lxml in /usr/local/lib/python3.10/dist-packages (from cinemagoer) (4.9.3)\n",
            "Requirement already satisfied: typing-extensions>=4.2.0 in /usr/local/lib/python3.10/dist-packages (from SQLAlchemy->cinemagoer) (4.5.0)\n",
            "Requirement already satisfied: greenlet!=0.4.17 in /usr/local/lib/python3.10/dist-packages (from SQLAlchemy->cinemagoer) (3.0.0)\n",
            "Installing collected packages: cinemagoer\n",
            "Successfully installed cinemagoer-2023.5.1\n"
          ]
        }
      ]
    },
    {
      "cell_type": "code",
      "execution_count": null,
      "metadata": {
        "id": "Zn7ebKaSjSmK"
      },
      "outputs": [],
      "source": [
        "from imdb import Cinemagoer\n",
        "\n",
        "# создаем класс Cinemagoer\n",
        "ia = Cinemagoer()\n",
        "\n",
        "# получаем информацию про фильм по ID в IMDB https://www.imdb.com/title/tt###\n",
        "movie = ia.get_movie('5537002')"
      ]
    },
    {
      "cell_type": "code",
      "source": [
        "# посмотрим, какая информация нам доступна\n",
        "sorted(movie.keys())"
      ],
      "metadata": {
        "id": "TjihNPcKxD7s",
        "colab": {
          "base_uri": "https://localhost:8080/"
        },
        "outputId": "0cfe1efe-1533-4310-cee7-25a5f731d501"
      },
      "execution_count": null,
      "outputs": [
        {
          "output_type": "execute_result",
          "data": {
            "text/plain": [
              "['akas',\n",
              " 'art department',\n",
              " 'art direction',\n",
              " 'aspect ratio',\n",
              " 'assistant director',\n",
              " 'box office',\n",
              " 'camera and electrical department',\n",
              " 'canonical title',\n",
              " 'cast',\n",
              " 'casting department',\n",
              " 'casting director',\n",
              " 'certificates',\n",
              " 'cinematographer',\n",
              " 'color info',\n",
              " 'composer',\n",
              " 'costume department',\n",
              " 'costume designer',\n",
              " 'countries',\n",
              " 'country codes',\n",
              " 'cover url',\n",
              " 'director',\n",
              " 'distributors',\n",
              " 'editor',\n",
              " 'editorial department',\n",
              " 'full-size cover url',\n",
              " 'genres',\n",
              " 'imdbID',\n",
              " 'kind',\n",
              " 'language codes',\n",
              " 'languages',\n",
              " 'localized title',\n",
              " 'location management',\n",
              " 'long imdb canonical title',\n",
              " 'long imdb title',\n",
              " 'make up',\n",
              " 'miscellaneous crew',\n",
              " 'music department',\n",
              " 'original air date',\n",
              " 'original title',\n",
              " 'other companies',\n",
              " 'plot',\n",
              " 'producer',\n",
              " 'production companies',\n",
              " 'production design',\n",
              " 'production manager',\n",
              " 'rating',\n",
              " 'runtimes',\n",
              " 'script department',\n",
              " 'set decoration',\n",
              " 'smart canonical title',\n",
              " 'smart long imdb canonical title',\n",
              " 'sound crew',\n",
              " 'sound mix',\n",
              " 'special effects',\n",
              " 'special effects companies',\n",
              " 'stunt performer',\n",
              " 'thanks',\n",
              " 'title',\n",
              " 'transportation department',\n",
              " 'videos',\n",
              " 'visual effects',\n",
              " 'votes',\n",
              " 'writer',\n",
              " 'year']"
            ]
          },
          "metadata": {},
          "execution_count": 3
        }
      ]
    },
    {
      "cell_type": "markdown",
      "source": [
        "# Задачи на работу со строками"
      ],
      "metadata": {
        "id": "YN57OZzX0A-t"
      }
    },
    {
      "cell_type": "code",
      "source": [
        "# для каждого актера фильма\n",
        "# выведите на экран одной строкой\n",
        "# FirstName LastName is an actor in MovieName\n",
        "# используйте конкатенацию и форматирование строк\n",
        "# hint: actor['name'] - имя актера\n",
        "# movie['original title'] - название фильма\n",
        "for actor in movie['cast']:\n",
        "  print(f\"{actor['name']} is an actor in {movie['original title']}\")"
      ],
      "metadata": {
        "id": "IHmsLx-YyPCG",
        "colab": {
          "base_uri": "https://localhost:8080/"
        },
        "outputId": "2584e99b-c945-4829-a4c9-3e2954318449"
      },
      "execution_count": null,
      "outputs": [
        {
          "output_type": "stream",
          "name": "stdout",
          "text": [
            "Leonardo DiCaprio is an actor in Killers of the Flower Moon\n",
            "Robert De Niro is an actor in Killers of the Flower Moon\n",
            "Lily Gladstone is an actor in Killers of the Flower Moon\n",
            "Jesse Plemons is an actor in Killers of the Flower Moon\n",
            "Tantoo Cardinal is an actor in Killers of the Flower Moon\n",
            "John Lithgow is an actor in Killers of the Flower Moon\n",
            "Brendan Fraser is an actor in Killers of the Flower Moon\n",
            "Cara Jade Myers is an actor in Killers of the Flower Moon\n",
            "Janae Collins is an actor in Killers of the Flower Moon\n",
            "Jillian Dion is an actor in Killers of the Flower Moon\n",
            "Jason Isbell is an actor in Killers of the Flower Moon\n",
            "William Belleau is an actor in Killers of the Flower Moon\n",
            "Louis Cancelmi is an actor in Killers of the Flower Moon\n",
            "Scott Shepherd is an actor in Killers of the Flower Moon\n",
            "Everett Waller is an actor in Killers of the Flower Moon\n",
            "Talee Redcorn is an actor in Killers of the Flower Moon\n",
            "Yancey Red Corn is an actor in Killers of the Flower Moon\n",
            "Tatanka Means is an actor in Killers of the Flower Moon\n",
            "Tommy Schultz is an actor in Killers of the Flower Moon\n",
            "Sturgill Simpson is an actor in Killers of the Flower Moon\n",
            "Ty Mitchell is an actor in Killers of the Flower Moon\n",
            "Gary Basaraba is an actor in Killers of the Flower Moon\n",
            "Charlie Musselwhite is an actor in Killers of the Flower Moon\n",
            "Pat Healy is an actor in Killers of the Flower Moon\n",
            "Steve Witting is an actor in Killers of the Flower Moon\n",
            "Steve Routman is an actor in Killers of the Flower Moon\n",
            "Gene Jones is an actor in Killers of the Flower Moon\n",
            "Michael Abbott Jr. is an actor in Killers of the Flower Moon\n",
            "J.C. MacKenzie is an actor in Killers of the Flower Moon\n",
            "Jack White is an actor in Killers of the Flower Moon\n",
            "Larry Sellers is an actor in Killers of the Flower Moon\n",
            "Barry Corbin is an actor in Killers of the Flower Moon\n",
            "Gabriel Casdorph is an actor in Killers of the Flower Moon\n",
            "Samuel French is an actor in Killers of the Flower Moon\n",
            "Wally Welch is an actor in Killers of the Flower Moon\n",
            "James Roman Dailey Jr. is an actor in Killers of the Flower Moon\n",
            "Christopher Cote is an actor in Killers of the Flower Moon\n",
            "Randy Houser is an actor in Killers of the Flower Moon\n",
            "Moe Headrick is an actor in Killers of the Flower Moon\n",
            "Pete Yorn is an actor in Killers of the Flower Moon\n",
            "Margaret Shannon-Sisk is an actor in Killers of the Flower Moon\n",
            "Moira Redcorn is an actor in Killers of the Flower Moon\n",
            "Eric Parkinson is an actor in Killers of the Flower Moon\n",
            "Chase Parker is an actor in Killers of the Flower Moon\n",
            "Jarad Looper is an actor in Killers of the Flower Moon\n",
            "John Gibbs is an actor in Killers of the Flower Moon\n",
            "Jerry Logsdon is an actor in Killers of the Flower Moon\n",
            "Jacob Lux is an actor in Killers of the Flower Moon\n",
            "Xavier Toehay is an actor in Killers of the Flower Moon\n",
            "Mike Cook is an actor in Killers of the Flower Moon\n",
            "Katherine Willis is an actor in Killers of the Flower Moon\n",
            "Delani Chambers is an actor in Killers of the Flower Moon\n",
            "Zachary Hokeah is an actor in Killers of the Flower Moon\n",
            "Talon Satepauhoodle is an actor in Killers of the Flower Moon\n",
            "Jennifer Rader is an actor in Killers of the Flower Moon\n",
            "Chance Rush is an actor in Killers of the Flower Moon\n",
            "Dana Daylight is an actor in Killers of the Flower Moon\n",
            "Mahada Sanders is an actor in Killers of the Flower Moon\n",
            "Ben Hall is an actor in Killers of the Flower Moon\n",
            "John Q. Wilson is an actor in Killers of the Flower Moon\n",
            "Beau Smith is an actor in Killers of the Flower Moon\n",
            "Victor McCay is an actor in Killers of the Flower Moon\n",
            "Nathalie Standingcloud is an actor in Killers of the Flower Moon\n",
            "Jay Paulson is an actor in Killers of the Flower Moon\n",
            "Marvin E. Stepson Jr. is an actor in Killers of the Flower Moon\n",
            "Tracey Ann Moore is an actor in Killers of the Flower Moon\n",
            "Easton Wade Yellowfish is an actor in Killers of the Flower Moon\n",
            "Reignen Yellowfish is an actor in Killers of the Flower Moon\n",
            "Candice Costello is an actor in Killers of the Flower Moon\n",
            "Father Chris Daigle is an actor in Killers of the Flower Moon\n",
            "Justin France is an actor in Killers of the Flower Moon\n",
            "Jerry Wolf is an actor in Killers of the Flower Moon\n",
            "Addie Roanhorse is an actor in Killers of the Flower Moon\n",
            "Erica Pretty Eagle Moore is an actor in Killers of the Flower Moon\n",
            "Mason Cunningham is an actor in Killers of the Flower Moon\n",
            "Norma Jean is an actor in Killers of the Flower Moon\n",
            "Elisha Pratt is an actor in Killers of the Flower Moon\n",
            "Desireee Storm Brave is an actor in Killers of the Flower Moon\n",
            "Margaret Gray is an actor in Killers of the Flower Moon\n",
            "Christopher Hill is an actor in Killers of the Flower Moon\n",
            "Dolan Wilson is an actor in Killers of the Flower Moon\n",
            "Jackie Wyatt is an actor in Killers of the Flower Moon\n",
            "Rayna Gellert is an actor in Killers of the Flower Moon\n",
            "Nokosee Fields is an actor in Killers of the Flower Moon\n",
            "Kieran Kane is an actor in Killers of the Flower Moon\n",
            "Lucas Ross is an actor in Killers of the Flower Moon\n",
            "Elijah Cemp Ragsdale is an actor in Killers of the Flower Moon\n",
            "Vanessa Rose Pham is an actor in Killers of the Flower Moon\n",
            "Terry Allen is an actor in Killers of the Flower Moon\n",
            "Jo Harvey Allen is an actor in Killers of the Flower Moon\n",
            "Sarah Spurger is an actor in Killers of the Flower Moon\n",
            "Joshua Close is an actor in Killers of the Flower Moon\n",
            "Elden Henson is an actor in Killers of the Flower Moon\n",
            "Kinsleigh McNac is an actor in Killers of the Flower Moon\n",
            "Roanin Davis is an actor in Killers of the Flower Moon\n",
            "David Fields is an actor in Killers of the Flower Moon\n",
            "Anthony J. Harvey is an actor in Killers of the Flower Moon\n",
            "Stephen Berkman is an actor in Killers of the Flower Moon\n",
            "William Alyn Hill is an actor in Killers of the Flower Moon\n",
            "Joseph Spinelli is an actor in Killers of the Flower Moon\n",
            "Blaine Hall is an actor in Killers of the Flower Moon\n",
            "Brent Langdon is an actor in Killers of the Flower Moon\n",
            "Leland Prater is an actor in Killers of the Flower Moon\n",
            "DJ Whited is an actor in Killers of the Flower Moon\n",
            "Elizabeth Waller is an actor in Killers of the Flower Moon\n",
            "Jessica Harjo is an actor in Killers of the Flower Moon\n",
            "Joey Oglesby is an actor in Killers of the Flower Moon\n",
            "Alexis Ann is an actor in Killers of the Flower Moon\n",
            "Lee Eddy is an actor in Killers of the Flower Moon\n",
            "Gary S. Pratt is an actor in Killers of the Flower Moon\n",
            "Nathaniel Arcand is an actor in Killers of the Flower Moon\n",
            "Kristin Keith is an actor in Killers of the Flower Moon\n",
            "Bravery Nowlin is an actor in Killers of the Flower Moon\n",
            "Edward Gray Sr. is an actor in Killers of the Flower Moon\n",
            "Angela Pratt is an actor in Killers of the Flower Moon\n",
            "Henry Amos Gray is an actor in Killers of the Flower Moon\n",
            "Samuel Gray is an actor in Killers of the Flower Moon\n",
            "Edward Gray Jr. is an actor in Killers of the Flower Moon\n",
            "Mamie Cozad is an actor in Killers of the Flower Moon\n",
            "Shonagh Smith is an actor in Killers of the Flower Moon\n",
            "Joel Tallchief Lemon is an actor in Killers of the Flower Moon\n",
            "Richard Lookout RulingHisSun is an actor in Killers of the Flower Moon\n",
            "Brett Bower is an actor in Killers of the Flower Moon\n",
            "Garrison Panzer is an actor in Killers of the Flower Moon\n",
            "River Rhoades is an actor in Killers of the Flower Moon\n",
            "Zack T. Morris is an actor in Killers of the Flower Moon\n",
            "Harrison Shackelford is an actor in Killers of the Flower Moon\n",
            "Alexis Waller is an actor in Killers of the Flower Moon\n",
            "Mark Landon Smith is an actor in Killers of the Flower Moon\n",
            "Tom Ashmore is an actor in Killers of the Flower Moon\n",
            "Myron F. Red Eagle is an actor in Killers of the Flower Moon\n",
            "Dolores Marie Goodeagle is an actor in Killers of the Flower Moon\n",
            "Matt Tolentino is an actor in Killers of the Flower Moon\n",
            "Johnny Baier is an actor in Killers of the Flower Moon\n",
            "Gregory Fallis is an actor in Killers of the Flower Moon\n",
            "Patrick Bubert is an actor in Killers of the Flower Moon\n",
            "TJ Muller is an actor in Killers of the Flower Moon\n",
            "Will Reardon-Anderson is an actor in Killers of the Flower Moon\n",
            "Peter Reardon-Anderson is an actor in Killers of the Flower Moon\n",
            "Kyle Dillingham is an actor in Killers of the Flower Moon\n",
            "Jacob Johnson is an actor in Killers of the Flower Moon\n",
            "Jeffrey Stevenson is an actor in Killers of the Flower Moon\n",
            "Clint Rohr is an actor in Killers of the Flower Moon\n",
            "D. Reride Smith is an actor in Killers of the Flower Moon\n",
            "James Healy Jr. is an actor in Killers of the Flower Moon\n",
            "Jeremy Goodvoice is an actor in Killers of the Flower Moon\n",
            "Ron McMahan is an actor in Killers of the Flower Moon\n",
            "Seth Buckminster is an actor in Killers of the Flower Moon\n",
            "Penny Potts is an actor in Killers of the Flower Moon\n",
            "Melissa Tiger is an actor in Killers of the Flower Moon\n",
            "Karen Garlitz is an actor in Killers of the Flower Moon\n",
            "Bronson Redeagle is an actor in Killers of the Flower Moon\n",
            "Jenny Paige Lynn is an actor in Killers of the Flower Moon\n",
            "David Born is an actor in Killers of the Flower Moon\n",
            "Mary Buss is an actor in Killers of the Flower Moon\n",
            "Ted Welch is an actor in Killers of the Flower Moon\n",
            "Carl Palmer is an actor in Killers of the Flower Moon\n",
            "Tanner Brantley is an actor in Killers of the Flower Moon\n",
            "Jezy Gray is an actor in Killers of the Flower Moon\n",
            "Steve Eastin is an actor in Killers of the Flower Moon\n",
            "Joe Chrest is an actor in Killers of the Flower Moon\n",
            "Brian Shoop is an actor in Killers of the Flower Moon\n",
            "James Carroll is an actor in Killers of the Flower Moon\n",
            "Lux Britni Malaske is an actor in Killers of the Flower Moon\n",
            "Adam Washington is an actor in Killers of the Flower Moon\n",
            "Larry Jack Dotson is an actor in Killers of the Flower Moon\n",
            "Larry Fessenden is an actor in Killers of the Flower Moon\n",
            "Welker White is an actor in Killers of the Flower Moon\n",
            "Martin Scorsese is an actor in Killers of the Flower Moon\n",
            "Marko A. Costanzo is an actor in Killers of the Flower Moon\n",
            "Nicholas White is an actor in Killers of the Flower Moon\n",
            "Rob Fisher is an actor in Killers of the Flower Moon\n",
            "Vince Giordano is an actor in Killers of the Flower Moon\n",
            "Paul Woodiel is an actor in Killers of the Flower Moon\n",
            "Andy Stein is an actor in Killers of the Flower Moon\n",
            "Sam Bardfeld is an actor in Killers of the Flower Moon\n",
            "Joe Boga is an actor in Killers of the Flower Moon\n",
            "Jon-Erik Kellso is an actor in Killers of the Flower Moon\n",
            "Jim Fryer is an actor in Killers of the Flower Moon\n",
            "Marc Phaneuf is an actor in Killers of the Flower Moon\n",
            "Mark Lopeman is an actor in Killers of the Flower Moon\n",
            "Chris Byars is an actor in Killers of the Flower Moon\n",
            "Vinny Raniolo is an actor in Killers of the Flower Moon\n",
            "Paul Wells is an actor in Killers of the Flower Moon\n",
            "Peter Yarin is an actor in Killers of the Flower Moon\n",
            "Scott George is an actor in Killers of the Flower Moon\n",
            "Kenneth Bighorse Jr. is an actor in Killers of the Flower Moon\n",
            "Vann Bighorse is an actor in Killers of the Flower Moon\n",
            "Anna L. Bighorse is an actor in Killers of the Flower Moon\n",
            "Mason Bighorse is an actor in Killers of the Flower Moon\n",
            "Norris Bighorse is an actor in Killers of the Flower Moon\n",
            "Scott Bighorse is an actor in Killers of the Flower Moon\n",
            "Paul Bighorse is an actor in Killers of the Flower Moon\n",
            "Taveah Ann George is an actor in Killers of the Flower Moon\n",
            "Wahwastoas J. Jones is an actor in Killers of the Flower Moon\n",
            "Dobbin Monoessy Knifechief is an actor in Killers of the Flower Moon\n",
            "Julia Lookout is an actor in Killers of the Flower Moon\n",
            "Jennifer Moses is an actor in Killers of the Flower Moon\n",
            "Francis Pipestem Jr. is an actor in Killers of the Flower Moon\n",
            "Michael Paul Pahsetopah is an actor in Killers of the Flower Moon\n",
            "Silas Satepauhoodle is an actor in Killers of the Flower Moon\n",
            "Cherylyn Oberly Satepauhoodle is an actor in Killers of the Flower Moon\n",
            "Charisse Satepauhoodle is an actor in Killers of the Flower Moon\n",
            "Lynette Satepauhoodle is an actor in Killers of the Flower Moon\n",
            "John Shaw is an actor in Killers of the Flower Moon\n",
            "Angela Toineeta Satepauhoodle is an actor in Killers of the Flower Moon\n",
            "Alexandria Toineeta is an actor in Killers of the Flower Moon\n",
            "Ed Yellowfish is an actor in Killers of the Flower Moon\n",
            "Matthew Apker is an actor in Killers of the Flower Moon\n",
            "Bryce Barfield is an actor in Killers of the Flower Moon\n",
            "Matt Barse is an actor in Killers of the Flower Moon\n",
            "Lisandro Boccacci is an actor in Killers of the Flower Moon\n",
            "Connor Bock is an actor in Killers of the Flower Moon\n",
            "Parker Cassady is an actor in Killers of the Flower Moon\n",
            "Brent Charles is an actor in Killers of the Flower Moon\n",
            "Rachael Christenson is an actor in Killers of the Flower Moon\n",
            "Chelsey Davis is an actor in Killers of the Flower Moon\n",
            "Charles Day is an actor in Killers of the Flower Moon\n",
            "Chris Dry is an actor in Killers of the Flower Moon\n",
            "Ronnie Felts is an actor in Killers of the Flower Moon\n",
            "Nelson J. Flowers is an actor in Killers of the Flower Moon\n",
            "Danny Frost is an actor in Killers of the Flower Moon\n",
            "Mike Garner is an actor in Killers of the Flower Moon\n",
            "Phoenix Ghost is an actor in Killers of the Flower Moon\n",
            "Michael Graham is an actor in Killers of the Flower Moon\n",
            "Dave Granholm is an actor in Killers of the Flower Moon\n",
            "Phil Grayson is an actor in Killers of the Flower Moon\n",
            "Kenny Harragarra is an actor in Killers of the Flower Moon\n",
            "Douglas K. Harrison is an actor in Killers of the Flower Moon\n",
            "John Holmes is an actor in Killers of the Flower Moon\n",
            "Jeff E Howard is an actor in Killers of the Flower Moon\n",
            "Kyle Jones is an actor in Killers of the Flower Moon\n",
            "Scott Lancaster is an actor in Killers of the Flower Moon\n",
            "Damian Lund is an actor in Killers of the Flower Moon\n",
            "Jackie B. McCarter is an actor in Killers of the Flower Moon\n",
            "Michael Nauman is an actor in Killers of the Flower Moon\n",
            "Michael Patterson is an actor in Killers of the Flower Moon\n",
            "Dane Alexander Peplinski is an actor in Killers of the Flower Moon\n",
            "Craig Philson is an actor in Killers of the Flower Moon\n",
            "John Potthast is an actor in Killers of the Flower Moon\n",
            "Rachel Purget is an actor in Killers of the Flower Moon\n",
            "Thomas Rex is an actor in Killers of the Flower Moon\n",
            "Skip Schwink is an actor in Killers of the Flower Moon\n",
            "Tony Sellars is an actor in Killers of the Flower Moon\n",
            "Michael Sloan is an actor in Killers of the Flower Moon\n",
            "Logan Smith is an actor in Killers of the Flower Moon\n",
            "Chase Spivey is an actor in Killers of the Flower Moon\n",
            "Charisse Taylor is an actor in Killers of the Flower Moon\n",
            "Dionicio Virvez is an actor in Killers of the Flower Moon\n",
            "Carlton Welch II is an actor in Killers of the Flower Moon\n",
            "Greg Williams is an actor in Killers of the Flower Moon\n",
            "Dustin Wilson is an actor in Killers of the Flower Moon\n",
            "James Wirt is an actor in Killers of the Flower Moon\n",
            "Chris Wolpert is an actor in Killers of the Flower Moon\n",
            "Bob Yount is an actor in Killers of the Flower Moon\n"
          ]
        }
      ]
    },
    {
      "cell_type": "code",
      "source": [
        "# сохраним краткое описание фильма в переменную\n",
        "\n",
        "synopsis = movie['plot'][0]\n",
        "\n",
        "# приведите этот текст к нижнему регистру\n",
        "\n",
        "synopsis_lower = synopsis.lower()\n",
        "\n",
        "# выведите на экран первые 100 символов\n",
        "\n",
        "print(synopsis_lower[:100])\n",
        "\n",
        "print(synopsis_lower.split()[:100])"
      ],
      "metadata": {
        "id": "gWnW9d-9w9fC",
        "colab": {
          "base_uri": "https://localhost:8080/"
        },
        "outputId": "47d0fa4d-c5bd-40bc-9e15-61329a78e02b"
      },
      "execution_count": null,
      "outputs": [
        {
          "output_type": "stream",
          "name": "stdout",
          "text": [
            "when oil is discovered in 1920s oklahoma under osage nation land, the osage people are murdered one \n",
            "['when', 'oil', 'is', 'discovered', 'in', '1920s', 'oklahoma', 'under', 'osage', 'nation', 'land,', 'the', 'osage', 'people', 'are', 'murdered', 'one', 'by', 'one', '-', 'until', 'the', 'fbi', 'steps', 'in', 'to', 'unravel', 'the', 'mystery.']\n"
          ]
        }
      ]
    },
    {
      "cell_type": "code",
      "source": [
        "# посмотрите, сколько раз повторяются слова из заголовка фильма\n",
        "# для этого приведите название фильма к нижнему регистру\n",
        "# и используйте цикл for, если слов в заголовке несколько\n",
        "\n",
        "for word in movie['original title'].lower().split():\n",
        "  print(word)\n",
        "  print(synopsis_lower.count(word))"
      ],
      "metadata": {
        "colab": {
          "base_uri": "https://localhost:8080/"
        },
        "id": "NXRD_5tIuSw0",
        "outputId": "dca0bcd4-1409-4975-a14c-b9ad1a101fe5"
      },
      "execution_count": null,
      "outputs": [
        {
          "output_type": "stream",
          "name": "stdout",
          "text": [
            "killers\n",
            "0\n",
            "of\n",
            "0\n",
            "the\n",
            "3\n",
            "flower\n",
            "0\n",
            "moon\n",
            "0\n"
          ]
        }
      ]
    },
    {
      "cell_type": "code",
      "source": [
        "# разбейте текст на слова и выведете первые 10 слов на экран, не используйте print\n",
        "\n",
        "words = synopsis_lower.split()\n",
        "words[:10]"
      ],
      "metadata": {
        "colab": {
          "base_uri": "https://localhost:8080/"
        },
        "id": "boKgESK6vyvv",
        "outputId": "1f0eada2-093f-4f6d-9448-e14f3c82cbd6"
      },
      "execution_count": null,
      "outputs": [
        {
          "output_type": "execute_result",
          "data": {
            "text/plain": [
              "['when',\n",
              " 'oil',\n",
              " 'is',\n",
              " 'discovered',\n",
              " 'in',\n",
              " '1920s',\n",
              " 'oklahoma',\n",
              " 'under',\n",
              " 'osage',\n",
              " 'nation']"
            ]
          },
          "metadata": {},
          "execution_count": 7
        }
      ]
    },
    {
      "cell_type": "markdown",
      "source": [
        "# Задачи на работу со списками"
      ],
      "metadata": {
        "id": "V4_tbOOR7xlZ"
      }
    },
    {
      "cell_type": "code",
      "source": [
        "# создайте список актеров фильма\n",
        "# сначала создайте пустой список\n",
        "# затем используйте цикл for и append\n",
        "\n",
        "actors = []\n",
        "\n",
        "for actor in movie['cast']:\n",
        "  actors.append(actor['name'])\n",
        "\n",
        "# выведите на экран первые 10 актеров из списка\n",
        "\n",
        "actors[:10]"
      ],
      "metadata": {
        "id": "p0XJ2Ib07wqf",
        "colab": {
          "base_uri": "https://localhost:8080/"
        },
        "outputId": "2bbfe718-db17-433d-ec39-49336d159aa0"
      },
      "execution_count": null,
      "outputs": [
        {
          "output_type": "execute_result",
          "data": {
            "text/plain": [
              "['Leonardo DiCaprio',\n",
              " 'Robert De Niro',\n",
              " 'Lily Gladstone',\n",
              " 'Jesse Plemons',\n",
              " 'Tantoo Cardinal',\n",
              " 'John Lithgow',\n",
              " 'Brendan Fraser',\n",
              " 'Cara Jade Myers',\n",
              " 'Janae Collins',\n",
              " 'Jillian Dion']"
            ]
          },
          "metadata": {},
          "execution_count": 8
        }
      ]
    },
    {
      "cell_type": "code",
      "source": [
        "# сгенерируйте список режиссеров фильма\n",
        "# hint: для запроса к имени используйте x['name']\n",
        "\n",
        "directors = [x['name'] for x in movie['directors']]\n",
        "\n",
        "# выведите на экран количество режиссеров фильма и их имена\n",
        "# используйте f-форматирование строк и \\n для переноса на новую строку\n",
        "\n",
        "print(f\"Всего режиссеров: {len(directors)}\\nИмена: {' '.join(map(str, directors))}\")"
      ],
      "metadata": {
        "id": "aVekoj5u8SgK",
        "colab": {
          "base_uri": "https://localhost:8080/"
        },
        "outputId": "a786dfa2-d9aa-40af-f211-7a4278fffade"
      },
      "execution_count": null,
      "outputs": [
        {
          "output_type": "stream",
          "name": "stdout",
          "text": [
            "Всего режиссеров: 1\n",
            "Имена: Martin Scorsese\n"
          ]
        }
      ]
    },
    {
      "cell_type": "code",
      "source": [
        "# списки тоже можно контатенировать, сложите список актеров и режиссеров\n",
        "# выведите несколько первых и последних элементов списка\n",
        "\n",
        "involved = actors + directors\n",
        "\n",
        "print(involved[:3])\n",
        "print(involved[-3:])"
      ],
      "metadata": {
        "id": "r4tYj-JE9qDD",
        "colab": {
          "base_uri": "https://localhost:8080/"
        },
        "outputId": "c5bba8ee-5da6-4997-8bf8-a04bb6dfdcfd"
      },
      "execution_count": null,
      "outputs": [
        {
          "output_type": "stream",
          "name": "stdout",
          "text": [
            "['Leonardo DiCaprio', 'Robert De Niro', 'Lily Gladstone']\n",
            "['Chris Wolpert', 'Bob Yount', 'Martin Scorsese']\n"
          ]
        }
      ]
    },
    {
      "cell_type": "code",
      "source": [
        "# выполните сортировку списка актеров по алфавиту\n",
        "\n",
        "print(sorted(actors)[:5])"
      ],
      "metadata": {
        "id": "E2EWKiA6_Ech",
        "colab": {
          "base_uri": "https://localhost:8080/"
        },
        "outputId": "7254dedf-3744-41be-8aea-c1a44c908355"
      },
      "execution_count": null,
      "outputs": [
        {
          "output_type": "stream",
          "name": "stdout",
          "text": [
            "['Adam Washington', 'Addie Roanhorse', 'Alexandria Toineeta', 'Alexis Ann', 'Alexis Waller']\n"
          ]
        }
      ]
    },
    {
      "cell_type": "code",
      "source": [
        "# удалите в этом списке первый элемент с помощью индексации\n",
        "\n",
        "actors.remove(actors[0])\n",
        "\n",
        "print(actors[:5])"
      ],
      "metadata": {
        "colab": {
          "base_uri": "https://localhost:8080/"
        },
        "id": "pJZygt6u40ix",
        "outputId": "7a745ee0-c449-43c8-a1f7-8f7e4b919b08"
      },
      "execution_count": null,
      "outputs": [
        {
          "output_type": "stream",
          "name": "stdout",
          "text": [
            "['Robert De Niro', 'Lily Gladstone', 'Jesse Plemons', 'Tantoo Cardinal', 'John Lithgow']\n"
          ]
        }
      ]
    },
    {
      "cell_type": "code",
      "source": [
        "# удалите нелюбимого актера с помощью ввода имен\n",
        "\n",
        "actors.remove('Lily Gladstone')\n",
        "\n",
        "# проверьте, есть ли это имя в списке актеров с помощью in\n",
        "\n",
        "'Lily Gladstone' not in actors"
      ],
      "metadata": {
        "colab": {
          "base_uri": "https://localhost:8080/"
        },
        "id": "wExxAtlg5PzX",
        "outputId": "75b5b702-ae29-4563-bdf2-b3d540521c76"
      },
      "execution_count": null,
      "outputs": [
        {
          "output_type": "execute_result",
          "data": {
            "text/plain": [
              "True"
            ]
          },
          "metadata": {},
          "execution_count": 43
        }
      ]
    },
    {
      "cell_type": "markdown",
      "source": [
        "# Задачи на работу со словарями"
      ],
      "metadata": {
        "id": "8sRhKPLTFAuF"
      }
    },
    {
      "cell_type": "code",
      "source": [
        "actors[4]"
      ],
      "metadata": {
        "colab": {
          "base_uri": "https://localhost:8080/",
          "height": 35
        },
        "id": "1OM5zBfOfYFB",
        "outputId": "8a588adc-1c8d-4ef7-e849-463e2fa89848"
      },
      "execution_count": null,
      "outputs": [
        {
          "output_type": "execute_result",
          "data": {
            "text/plain": [
              "'John Lithgow'"
            ],
            "application/vnd.google.colaboratory.intrinsic+json": {
              "type": "string"
            }
          },
          "metadata": {},
          "execution_count": 34
        }
      ]
    },
    {
      "cell_type": "code",
      "source": [
        "# создадим карточку любого актера из нашего фильма\n",
        "\n",
        "people = ia.search_person(actors[9])\n",
        "\n",
        "for person in people:\n",
        "   print(person.personID, person['name'])"
      ],
      "metadata": {
        "id": "2PuExDCoEFG_",
        "colab": {
          "base_uri": "https://localhost:8080/"
        },
        "outputId": "3a5ee1ef-b1d1-4f75-ff64-4dc0a51d9ce4"
      },
      "execution_count": null,
      "outputs": [
        {
          "output_type": "stream",
          "name": "stdout",
          "text": [
            "4772717 Jason Isbell\n",
            "5917942 Jason Cabell\n",
            "0069245 Louie Bellson\n",
            "3848412 Sam Mason-Bell\n",
            "2296179 Denny Bellamy\n",
            "8512973 Jason Asbell\n",
            "0813870 Sonia Somers\n",
            "10664066 Jason Asbell\n",
            "0038411 Jason Asbell\n",
            "12062217 Jason Bissell\n",
            "3340162 Ron Isbell\n",
            "12546035 Jon Isbell\n",
            "13502646 Don Isbell\n",
            "9275280 Jason Nisbett\n",
            "12182846 Watson Isbell\n",
            "10117814 Karolina Jonason Isberg\n"
          ]
        }
      ]
    },
    {
      "cell_type": "code",
      "source": [
        "# запишем в перменную только один результат\n",
        "\n",
        "person = ia.get_person(people[0].personID)"
      ],
      "metadata": {
        "id": "2x_WWik8Indr"
      },
      "execution_count": null,
      "outputs": []
    },
    {
      "cell_type": "code",
      "source": [
        "person"
      ],
      "metadata": {
        "colab": {
          "base_uri": "https://localhost:8080/"
        },
        "id": "dVzht0lXgQqn",
        "outputId": "c0a3cd20-35b6-420e-9d5c-d851ecc062d7"
      },
      "execution_count": null,
      "outputs": [
        {
          "output_type": "execute_result",
          "data": {
            "text/plain": [
              "<Person id:4772717[http] name:_Jason Isbell_>"
            ]
          },
          "metadata": {},
          "execution_count": 17
        }
      ]
    },
    {
      "cell_type": "code",
      "source": [
        "person.keys()"
      ],
      "metadata": {
        "colab": {
          "base_uri": "https://localhost:8080/"
        },
        "id": "HWK3eAaQJL0S",
        "outputId": "114c07ec-ae6b-427d-bcca-4956f9ff4475"
      },
      "execution_count": null,
      "outputs": [
        {
          "output_type": "execute_result",
          "data": {
            "text/plain": [
              "['headshot',\n",
              " 'imdbID',\n",
              " 'name',\n",
              " 'filmography',\n",
              " 'canonical name',\n",
              " 'long imdb name',\n",
              " 'long imdb canonical name',\n",
              " 'full-size headshot']"
            ]
          },
          "metadata": {},
          "execution_count": 18
        }
      ]
    },
    {
      "cell_type": "code",
      "source": [
        "person.items()"
      ],
      "metadata": {
        "id": "jRE3qJuUJoKv",
        "colab": {
          "base_uri": "https://localhost:8080/"
        },
        "outputId": "4b794845-5f46-4722-b232-84393286d12a"
      },
      "execution_count": null,
      "outputs": [
        {
          "output_type": "execute_result",
          "data": {
            "text/plain": [
              "[('headshot',\n",
              "  'https://m.media-amazon.com/images/M/MV5BODc5OTg5NmUtMmQxYy00OTY1LWJmNjMtMTgwODlmYmZiNWNkXkEyXkFqcGdeQXVyNTI5NjIyMw@@._V1_QL75_UY207_CR86,0,140,207_.jpg'),\n",
              " ('imdbID', '4772717'),\n",
              " ('name', 'Jason Isbell'),\n",
              " ('filmography',\n",
              "  {'actor': [<Movie id:5537002[http] title:_Killers of the Flower Moon (2023)_>,\n",
              "    <Movie id:11859366[http] title:_Music Box (2023)_>,\n",
              "    <Movie id:0457146[http] title:_Squidbillies (2021) (2016)_>,\n",
              "    <Movie id:4270492[http] title:_Billions (2021)_>,\n",
              "    <Movie id:13697950[http] title:_Warren Haynes Presents the Benefit Concert Volume 16 (2019)_>,\n",
              "    <Movie id:4943998[http] title:_Deadwood: The Movie (2019)_>],\n",
              "   'composer': [<Movie id:8970448[http] title:_Adopt a Highway (2019)_>],\n",
              "   'music department': [<Movie id:0457146[http] title:_Squidbillies (2016)_>],\n",
              "   'soundtrack': [<Movie id:3758814[http] title:_The Ice Road (2021)_>,\n",
              "    <Movie id:1517451[http] title:_A Star Is Born (2018)_>,\n",
              "    <Movie id:2699110[http] title:_The Affair (None)_>,\n",
              "    <Movie id:4124758[http] title:_Instinct (2018)_>,\n",
              "    <Movie id:5500158[http] title:_Pitch (2016)_>,\n",
              "    <Movie id:2632424[http] title:_The Originals (2016)_>,\n",
              "    <Movie id:1637574[http] title:_Conan (None)_>,\n",
              "    <Movie id:0106053[http] title:_Late Show with David Letterman (2015)_>,\n",
              "    <Movie id:1127883[http] title:_The Girl (None)_>,\n",
              "    <Movie id:1124373[http] title:_Sons of Anarchy (None)_>,\n",
              "    <Movie id:0452046[http] title:_Criminal Minds (2007)_>,\n",
              "    <Movie id:0800328[http] title:_The Dukes of Hazzard: The Beginning (2007)_>,\n",
              "    <Movie id:0362506[http] title:_Chrystal (2004)_>],\n",
              "   'self': [<Movie id:0320037[http] title:_Jimmy Kimmel Live! (2023) (2017)_>,\n",
              "    <Movie id:7174218[http] title:_The Beat with Ari Melber (2023)_>,\n",
              "    <Movie id:2344864[http] title:_CBS Saturday Morning (2023) (2020)_>,\n",
              "    <Movie id:3444938[http] title:_The Tonight Show Starring Jimmy Fallon (2023) (2019)_>,\n",
              "    <Movie id:21375050[http] title:_DittyTV's Eleven (2022)_>,\n",
              "    <Movie id:17678010[http] title:_Sheryl (2022)_>,\n",
              "    <Movie id:0115147[http] title:_The Daily Show (2021) (2017)_>,\n",
              "    <Movie id:2163227[http] title:_CBS This Morning (2021)_>,\n",
              "    <Movie id:14352500[http] title:_MSNBC Reports Stephanie Ruhle Reports (2021)_>,\n",
              "    <Movie id:3643558[http] title:_The Big Interview with Dan Rather (2021)_>,\n",
              "    <Movie id:15782492[http] title:_Jason Isbell & The 400 Unit at Brooklyn Bowl Nashville (2020)_>,\n",
              "    <Movie id:0364784[http] title:_Austin City Limits (2020) (2014)_>,\n",
              "    <Movie id:3697842[http] title:_The Late Show with Stephen Colbert (2020) (2016)_>,\n",
              "    <Movie id:2210101[http] title:_Trisha's Southern Kitchen (2020)_>,\n",
              "    <Movie id:12114498[http] title:_Willie Nelson American Outlaw (2020)_>,\n",
              "    <Movie id:11247156[http] title:_Travelin' Thru (2019)_>,\n",
              "    <Movie id:9602666[http] title:_Bluebird (2019)_>,\n",
              "    <Movie id:3473134[http] title:_Off Camera with Sam Jones (2018)_>,\n",
              "    <Movie id:4512424[http] title:_FishCenter Live (2018)_>,\n",
              "    <Movie id:5756516[http] title:_Hangout Music Festival (2016)_>,\n",
              "    <Movie id:6335422[http] title:_Front Row Boston (2016)_>,\n",
              "    <Movie id:6461156[http] title:_Ballad of the Dreadnought (2016)_>,\n",
              "    <Movie id:5666364[http] title:_The Musical Mojo of Dr. John: A Celebration of Mac & His Music (2016)_>,\n",
              "    <Movie id:4225100[http] title:_One More for the Fans! Celebrating the Songs & Music of Lynyrd Skynyrd (2015)_>,\n",
              "    <Movie id:5327882[http] title:_Americana Music Honors & Awards (2015)_>,\n",
              "    <Movie id:1637574[http] title:_Conan (2015) (2013)_>,\n",
              "    <Movie id:0165001[http] title:_CBS News Sunday Morning (2015)_>,\n",
              "    <Movie id:0106053[http] title:_Late Show with David Letterman (2015) (2011)_>,\n",
              "    <Movie id:4538278[http] title:_Bob Harris: My Nashville (2014)_>,\n",
              "    <Movie id:3354488[http] title:_The Ballad of Shovels and Rope (2014)_>,\n",
              "    <Movie id:5075274[http] title:_Bluegrass Underground (2014)_>,\n",
              "    <Movie id:5321120[http] title:_Americana Music Honors & Awards (2014)_>,\n",
              "    <Movie id:0165042[http] title:_Live from Lincoln Center (2014)_>,\n",
              "    <Movie id:12058860[http] title:_WTF with Marc Maron (2014)_>,\n",
              "    <Movie id:3507684[http] title:_CMT: Shooter Jennings' Midnight Special (2012)_>,\n",
              "    <Movie id:2578970[http] title:_Scarred but Smarter: Life n Times of Drivin n Cryin (2012)_>,\n",
              "    <Movie id:18352122[http] title:_Soundstage (2009)_>,\n",
              "    <Movie id:1660415[http] title:_The Secret to a Happy Ending (2009)_>]}),\n",
              " ('canonical name', 'Isbell, Jason'),\n",
              " ('long imdb name', 'Jason Isbell'),\n",
              " ('long imdb canonical name', 'Isbell, Jason'),\n",
              " ('full-size headshot',\n",
              "  'https://m.media-amazon.com/images/M/MV5BODc5OTg5NmUtMmQxYy00OTY1LWJmNjMtMTgwODlmYmZiNWNkXkEyXkFqcGdeQXVyNTI5NjIyMw@@.jpg')]"
            ]
          },
          "metadata": {},
          "execution_count": 19
        }
      ]
    },
    {
      "cell_type": "code",
      "source": [
        "# составим из этих элементов карточку следующего вида\n",
        "# [\n",
        "#    актер :\n",
        "#             {\n",
        "#               фильмы : список фильмов\n",
        "#               жанры : список жанров\n",
        "#             }\n",
        "# ]\n",
        "#\n",
        "# начнем с создания списка фильмов\n",
        "# создаем пустой список\n",
        "\n",
        "films = []\n",
        "\n",
        "# для каждого фильма в person['filmography']['###']\n",
        "# вносим в список новый элемент\n",
        "\n",
        "try:\n",
        "  for title in person['filmography']['actress']:\n",
        "    films.append(title['title'])\n",
        "except KeyError:\n",
        "  for title in person['filmography']['actor']:\n",
        "    films.append(title['title'])\n",
        "\n",
        "\n",
        "films[:10]"
      ],
      "metadata": {
        "id": "rqL8zMq8JrTw",
        "colab": {
          "base_uri": "https://localhost:8080/"
        },
        "outputId": "03ee0810-3577-4d04-a459-ac40423c89ff"
      },
      "execution_count": null,
      "outputs": [
        {
          "output_type": "execute_result",
          "data": {
            "text/plain": [
              "['Killers of the Flower Moon',\n",
              " 'Music Box',\n",
              " 'Squidbillies',\n",
              " 'Billions',\n",
              " 'Warren Haynes Presents the Benefit Concert Volume 16',\n",
              " 'Deadwood: The Movie']"
            ]
          },
          "metadata": {},
          "execution_count": 20
        }
      ]
    },
    {
      "cell_type": "code",
      "source": [
        "filmography = person['filmography']\n",
        "\n",
        "try:\n",
        "    film_list = filmography['actress']\n",
        "except KeyError:\n",
        "    film_list = filmography['actor']\n",
        "\n",
        "for title in film_list:\n",
        "  films.append(title['title'])"
      ],
      "metadata": {
        "id": "fQKvi07tapi4"
      },
      "execution_count": null,
      "outputs": []
    },
    {
      "cell_type": "code",
      "source": [
        "films"
      ],
      "metadata": {
        "colab": {
          "base_uri": "https://localhost:8080/"
        },
        "id": "g2csu0tbY7eL",
        "outputId": "641241b5-5def-47df-b373-c211cda18d4d"
      },
      "execution_count": null,
      "outputs": [
        {
          "output_type": "execute_result",
          "data": {
            "text/plain": [
              "['Killers of the Flower Moon',\n",
              " 'Music Box',\n",
              " 'Squidbillies',\n",
              " 'Billions',\n",
              " 'Warren Haynes Presents the Benefit Concert Volume 16',\n",
              " 'Deadwood: The Movie',\n",
              " 'Killers of the Flower Moon',\n",
              " 'Music Box',\n",
              " 'Squidbillies',\n",
              " 'Billions',\n",
              " 'Warren Haynes Presents the Benefit Concert Volume 16',\n",
              " 'Deadwood: The Movie']"
            ]
          },
          "metadata": {},
          "execution_count": 22
        }
      ]
    },
    {
      "cell_type": "code",
      "source": [
        "languages = []\n",
        "\n",
        "languages = movie.data['languages']\n",
        "\n",
        "print(movie)\n",
        "\n",
        "\n",
        "print(languages)"
      ],
      "metadata": {
        "colab": {
          "base_uri": "https://localhost:8080/"
        },
        "id": "rOy34YCNO95C",
        "outputId": "b6b6bd7b-5074-493c-e7b6-0bc85e121bbb"
      },
      "execution_count": null,
      "outputs": [
        {
          "output_type": "stream",
          "name": "stdout",
          "text": [
            "Killers of the Flower Moon\n",
            "['English', 'Sioux', 'Latin', 'French']\n"
          ]
        }
      ]
    },
    {
      "cell_type": "code",
      "source": [
        "import imdb\n",
        "\n",
        "ia = imdb.IMDb()\n",
        "\n",
        "search = ia.get_movie(\"5537002\")\n",
        "\n",
        "year = search['year']\n",
        "\n",
        "print(search['title'] + \" : \" + str(year))"
      ],
      "metadata": {
        "colab": {
          "base_uri": "https://localhost:8080/"
        },
        "id": "cHbfyWMLNgnz",
        "outputId": "2bc84f9f-c1bd-417d-d36e-a3ab01272138"
      },
      "execution_count": null,
      "outputs": [
        {
          "output_type": "stream",
          "name": "stdout",
          "text": [
            "Killers of the Flower Moon : 2023\n"
          ]
        }
      ]
    },
    {
      "cell_type": "code",
      "source": [
        "# теперь для каждого из найденных фильмов извлечем жанр\n",
        "# и тоже запишем все это в список\n",
        "\n",
        "# создаем пустой список для жанров\n",
        "\n",
        "genres = []\n",
        "\n",
        "# для каждого фильма из списка с фильмами\n",
        "# ищем подходящие фильмы в IMDB: ia.search_movie()\n",
        "# записываем в переменную ID этого фильма: ia.get_movie(movie.movieID)\n",
        "# извлекаем жанры, записываем во временную переменную\n",
        "# записываем жанры в список жанров\n",
        "\n",
        "for title in films[:5]:\n",
        "  film_list = ia.search_movie(title)\n",
        "  film = ia.get_movie(film_list[0].movieID)\n",
        "  temp = film['genres'][0]\n",
        "  genres.append(temp)\n",
        "\n",
        "genres"
      ],
      "metadata": {
        "id": "MdMA4jSBK5yZ",
        "colab": {
          "base_uri": "https://localhost:8080/"
        },
        "outputId": "4ee38ad1-1bd8-47f7-ee4c-79a931b395c9"
      },
      "execution_count": null,
      "outputs": [
        {
          "output_type": "execute_result",
          "data": {
            "text/plain": [
              "['Crime', 'Crime', 'Animation', 'Drama', 'Music']"
            ]
          },
          "metadata": {},
          "execution_count": 52
        }
      ]
    },
    {
      "cell_type": "code",
      "source": [
        "# наши жанры повторяются\n",
        "\n",
        "genres"
      ],
      "metadata": {
        "colab": {
          "base_uri": "https://localhost:8080/"
        },
        "id": "8Z36xTMcK6Xs",
        "outputId": "c100ea54-93be-4cd7-ceeb-097a40ba3ff7"
      },
      "execution_count": null,
      "outputs": [
        {
          "output_type": "execute_result",
          "data": {
            "text/plain": [
              "['Crime', 'Crime', 'Animation', 'Drama', 'Music']"
            ]
          },
          "metadata": {},
          "execution_count": 53
        }
      ]
    },
    {
      "cell_type": "code",
      "source": [
        "# преобразуем список во множество\n",
        "\n",
        "genres = set(genres)\n",
        "genres"
      ],
      "metadata": {
        "colab": {
          "base_uri": "https://localhost:8080/"
        },
        "id": "CZoZrdoLNs0l",
        "outputId": "eb865f43-e4aa-4218-ea3c-5404606e31ff"
      },
      "execution_count": null,
      "outputs": [
        {
          "output_type": "execute_result",
          "data": {
            "text/plain": [
              "{'Animation', 'Crime', 'Drama', 'Music'}"
            ]
          },
          "metadata": {},
          "execution_count": 54
        }
      ]
    },
    {
      "cell_type": "code",
      "source": [
        "rating = []\n",
        "\n",
        "rating = movie.data['rating']\n",
        "\n",
        "print(movie)\n",
        "\n",
        "\n",
        "print(rating)"
      ],
      "metadata": {
        "colab": {
          "base_uri": "https://localhost:8080/"
        },
        "id": "4mf_oIZzIGRm",
        "outputId": "51619fe5-f399-4595-db1f-7c9691e3cf42"
      },
      "execution_count": null,
      "outputs": [
        {
          "output_type": "stream",
          "name": "stdout",
          "text": [
            "Killers of the Flower Moon\n",
            "8.2\n"
          ]
        }
      ]
    },
    {
      "cell_type": "code",
      "source": [
        "# теперь мы можем собрать информацию об актере в карточку\n",
        "# [\n",
        "#    актер :\n",
        "#             {\n",
        "#               фильмы : список фильмов\n",
        "#               жанры : список жанров\n",
        "#             }\n",
        "# ]\n",
        "#\n",
        "\n",
        "# сначала создаем словарь с фильмами и жанрами\n",
        "\n",
        "actor = dict()\n",
        "actor['films'] = films\n",
        "actor['genres'] = genres\n",
        "actor['year'] = year\n",
        "actor['rating'] = rating\n",
        "actor['languages'] = languages\n",
        "actor"
      ],
      "metadata": {
        "id": "_RtAgCoRN033",
        "colab": {
          "base_uri": "https://localhost:8080/"
        },
        "outputId": "1af853ec-3c12-4fe0-ae9c-992c7d57f828"
      },
      "execution_count": null,
      "outputs": [
        {
          "output_type": "execute_result",
          "data": {
            "text/plain": [
              "{'films': ['Killers of the Flower Moon',\n",
              "  'Music Box',\n",
              "  'Squidbillies',\n",
              "  'Billions',\n",
              "  'Warren Haynes Presents the Benefit Concert Volume 16',\n",
              "  'Deadwood: The Movie',\n",
              "  'Killers of the Flower Moon',\n",
              "  'Music Box',\n",
              "  'Squidbillies',\n",
              "  'Billions',\n",
              "  'Warren Haynes Presents the Benefit Concert Volume 16',\n",
              "  'Deadwood: The Movie',\n",
              "  'Killers of the Flower Moon',\n",
              "  'Music Box',\n",
              "  'Squidbillies',\n",
              "  'Billions',\n",
              "  'Warren Haynes Presents the Benefit Concert Volume 16',\n",
              "  'Deadwood: The Movie'],\n",
              " 'genres': {'Animation', 'Crime', 'Drama', 'Music'},\n",
              " 'year': 2023,\n",
              " 'rating': 8.2,\n",
              " 'languages': ['English',\n",
              "  'Sioux',\n",
              "  'Latin',\n",
              "  'French',\n",
              "  ['English'],\n",
              "  ['English'],\n",
              "  ['English', 'Chinese'],\n",
              "  ['English', 'Chinese'],\n",
              "  ['English']]}"
            ]
          },
          "metadata": {},
          "execution_count": 86
        }
      ]
    },
    {
      "cell_type": "code",
      "source": [
        "# теперь временный словарь, в котором мы соединим эту информацию с именем актера\n",
        "\n",
        "temp = dict()\n",
        "temp[person['canonical name']] = actor\n",
        "\n",
        "temp"
      ],
      "metadata": {
        "id": "pjxwcxH9OTk3",
        "colab": {
          "base_uri": "https://localhost:8080/"
        },
        "outputId": "f3f38458-23c6-4d2d-9df8-eb9dd0bf598b"
      },
      "execution_count": null,
      "outputs": [
        {
          "output_type": "execute_result",
          "data": {
            "text/plain": [
              "{'Isbell, Jason': {'films': ['Killers of the Flower Moon',\n",
              "   'Music Box',\n",
              "   'Squidbillies',\n",
              "   'Billions',\n",
              "   'Warren Haynes Presents the Benefit Concert Volume 16',\n",
              "   'Deadwood: The Movie',\n",
              "   'Killers of the Flower Moon',\n",
              "   'Music Box',\n",
              "   'Squidbillies',\n",
              "   'Billions',\n",
              "   'Warren Haynes Presents the Benefit Concert Volume 16',\n",
              "   'Deadwood: The Movie',\n",
              "   'Killers of the Flower Moon',\n",
              "   'Music Box',\n",
              "   'Squidbillies',\n",
              "   'Billions',\n",
              "   'Warren Haynes Presents the Benefit Concert Volume 16',\n",
              "   'Deadwood: The Movie'],\n",
              "  'genres': {'Animation', 'Crime', 'Drama', 'Music'},\n",
              "  'year': 2023,\n",
              "  'rating': 8.2,\n",
              "  'languages': ['English',\n",
              "   'Sioux',\n",
              "   'Latin',\n",
              "   'French',\n",
              "   ['English'],\n",
              "   ['English'],\n",
              "   ['English', 'Chinese'],\n",
              "   ['English', 'Chinese'],\n",
              "   ['English']]}}"
            ]
          },
          "metadata": {},
          "execution_count": 87
        }
      ]
    },
    {
      "cell_type": "code",
      "source": [
        "# карточка готова, но мы наверняка захотим добавить туда еще актеров\n",
        "# создаем хранилище карточек в виде списка и вносим туда первую карточку с append\n",
        "\n",
        "cards = []\n",
        "cards.append(temp)\n",
        "\n",
        "cards"
      ],
      "metadata": {
        "colab": {
          "base_uri": "https://localhost:8080/"
        },
        "id": "sPE1W57QPNYp",
        "outputId": "8a494026-c94a-4a19-a95a-14d1ab249e4a"
      },
      "execution_count": 89,
      "outputs": [
        {
          "output_type": "execute_result",
          "data": {
            "text/plain": [
              "[{'Isbell, Jason': {'films': ['Killers of the Flower Moon',\n",
              "    'Music Box',\n",
              "    'Squidbillies',\n",
              "    'Billions',\n",
              "    'Warren Haynes Presents the Benefit Concert Volume 16',\n",
              "    'Deadwood: The Movie',\n",
              "    'Killers of the Flower Moon',\n",
              "    'Music Box',\n",
              "    'Squidbillies',\n",
              "    'Billions',\n",
              "    'Warren Haynes Presents the Benefit Concert Volume 16',\n",
              "    'Deadwood: The Movie',\n",
              "    'Killers of the Flower Moon',\n",
              "    'Music Box',\n",
              "    'Squidbillies',\n",
              "    'Billions',\n",
              "    'Warren Haynes Presents the Benefit Concert Volume 16',\n",
              "    'Deadwood: The Movie'],\n",
              "   'genres': {'Animation', 'Crime', 'Drama', 'Music'},\n",
              "   'year': 2023,\n",
              "   'rating': 8.2,\n",
              "   'languages': ['English',\n",
              "    'Sioux',\n",
              "    'Latin',\n",
              "    'French',\n",
              "    ['English'],\n",
              "    ['English'],\n",
              "    ['English', 'Chinese'],\n",
              "    ['English', 'Chinese'],\n",
              "    ['English']]}}]"
            ]
          },
          "metadata": {},
          "execution_count": 89
        }
      ]
    },
    {
      "cell_type": "markdown",
      "source": [
        "Задание:\n",
        "\n",
        "- Создать карточки для 5 актеров одного (любого фильма) - можно больше, главное, чтобы ваш код масштабировался до любого количества актеров\n",
        "- В карточке каждого актера должна содержаться следующая информация:\n",
        " * фильмография в качестве актера\n",
        " * несколько жанров\n",
        " * год выпуска фильмов, где снимался актер\n",
        " * языки, на которых сняты эти фильмы\n",
        " * рейтинги этих фильмов\n",
        "\n",
        "Создание карточек должно быть автоматизировано: за один цикл работы программы должна создаваться одна карточка. Чтобы программа не работала слишком долго, можно сократить количество извлеченных фильмов до пяти, извлекать только один жанр, один язык, где их несколько.\n",
        "\n",
        "Если этого мало: используйте функции для своей работы (аргументами функции может быть количество актеров, количество фильмов и т.д.), добавьте к фильмографии синопсисы."
      ],
      "metadata": {
        "id": "d-Q6tLj6QVUj"
      }
    }
  ]
}