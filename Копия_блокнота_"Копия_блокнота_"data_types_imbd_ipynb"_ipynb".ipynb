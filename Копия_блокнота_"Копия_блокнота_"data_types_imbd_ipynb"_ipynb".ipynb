{
  "nbformat": 4,
  "nbformat_minor": 0,
  "metadata": {
    "colab": {
      "provenance": [],
      "include_colab_link": true
    },
    "kernelspec": {
      "name": "python3",
      "display_name": "Python 3"
    },
    "language_info": {
      "name": "python"
    }
  },
  "cells": [
    {
      "cell_type": "markdown",
      "metadata": {
        "id": "view-in-github",
        "colab_type": "text"
      },
      "source": [
        "<a href=\"https://colab.research.google.com/github/NazarovNikita1/Domashka-17-oct/blob/main/%D0%9A%D0%BE%D0%BF%D0%B8%D1%8F_%D0%B1%D0%BB%D0%BE%D0%BA%D0%BD%D0%BE%D1%82%D0%B0_%22%D0%9A%D0%BE%D0%BF%D0%B8%D1%8F_%D0%B1%D0%BB%D0%BE%D0%BA%D0%BD%D0%BE%D1%82%D0%B0_%22data_types_imbd_ipynb%22_ipynb%22.ipynb\" target=\"_parent\"><img src=\"https://colab.research.google.com/assets/colab-badge.svg\" alt=\"Open In Colab\"/></a>"
      ]
    },
    {
      "cell_type": "markdown",
      "source": [
        "```\n",
        "MIT License\n",
        "\n",
        "Copyright (c) 2023 Victoria Firsanova\n",
        "\n",
        "Permission is hereby granted, free of charge, to any person obtaining a copy of this software and associated documentation files (the \"Software\"), to deal in the Software without restriction, including without limitation the rights to use, copy, modify, merge, publish, distribute, sublicense, and/or sell copies of the Software, and to permit persons to whom the Software is furnished to do so, subject to the following conditions:\n",
        "\n",
        "The above copyright notice and this permission notice shall be included in all copies or substantial portions of the Software.\n",
        "\n",
        "THE SOFTWARE IS PROVIDED \"AS IS\", WITHOUT WARRANTY OF ANY KIND, EXPRESS OR IMPLIED, INCLUDING BUT NOT LIMITED TO THE WARRANTIES OF MERCHANTABILITY, FITNESS FOR A PARTICULAR PURPOSE AND NONINFRINGEMENT. IN NO EVENT SHALL THE AUTHORS OR COPYRIGHT HOLDERS BE LIABLE FOR ANY CLAIM, DAMAGES OR OTHER LIABILITY, WHETHER IN AN ACTION OF CONTRACT, TORT OR OTHERWISE, ARISING FROM, OUT OF OR IN CONNECTION WITH THE SOFTWARE OR THE USE OR OTHER DEALINGS IN THE SOFTWARE.\n",
        "```"
      ],
      "metadata": {
        "id": "6cQvzaYa5Z9C"
      }
    },
    {
      "cell_type": "markdown",
      "source": [
        "Работаем с Cinemagoer: https://cinemagoer.github.io/"
      ],
      "metadata": {
        "id": "NDJ9wtCQ24UT"
      }
    },
    {
      "cell_type": "code",
      "source": [
        "!pip install cinemagoer"
      ],
      "metadata": {
        "id": "dZB9wR7Cq6DP",
        "colab": {
          "base_uri": "https://localhost:8080/"
        },
        "outputId": "5018ccc7-ef30-4fb6-b6d2-bcece8fbe5bb"
      },
      "execution_count": 2,
      "outputs": [
        {
          "output_type": "stream",
          "name": "stdout",
          "text": [
            "Collecting cinemagoer\n",
            "  Downloading cinemagoer-2023.5.1-py3-none-any.whl (297 kB)\n",
            "\u001b[?25l     \u001b[90m━━━━━━━━━━━━━━━━━━━━━━━━━━━━━━━━━━━━━━━━\u001b[0m \u001b[32m0.0/297.2 kB\u001b[0m \u001b[31m?\u001b[0m eta \u001b[36m-:--:--\u001b[0m\r\u001b[2K     \u001b[90m━━━━━━━━━━━━━━━━━━━━━━━━━━━━━━━━━━━━━━━━\u001b[0m \u001b[32m297.2/297.2 kB\u001b[0m \u001b[31m10.0 MB/s\u001b[0m eta \u001b[36m0:00:00\u001b[0m\n",
            "\u001b[?25hRequirement already satisfied: SQLAlchemy in /usr/local/lib/python3.10/dist-packages (from cinemagoer) (2.0.21)\n",
            "Requirement already satisfied: lxml in /usr/local/lib/python3.10/dist-packages (from cinemagoer) (4.9.3)\n",
            "Requirement already satisfied: typing-extensions>=4.2.0 in /usr/local/lib/python3.10/dist-packages (from SQLAlchemy->cinemagoer) (4.5.0)\n",
            "Requirement already satisfied: greenlet!=0.4.17 in /usr/local/lib/python3.10/dist-packages (from SQLAlchemy->cinemagoer) (3.0.0)\n",
            "Installing collected packages: cinemagoer\n",
            "Successfully installed cinemagoer-2023.5.1\n"
          ]
        }
      ]
    },
    {
      "cell_type": "code",
      "execution_count": 3,
      "metadata": {
        "id": "Zn7ebKaSjSmK"
      },
      "outputs": [],
      "source": [
        "from imdb import Cinemagoer\n",
        "\n",
        "# создаем класс Cinemagoer\n",
        "ia = Cinemagoer()\n",
        "\n",
        "# получаем информацию про фильм по ID в IMDB https://www.imdb.com/title/tt###\n",
        "movie = ia.get_movie('0472205')"
      ]
    },
    {
      "cell_type": "code",
      "source": [
        "# посмотрим, какая информация нам доступна\n",
        "sorted(movie.keys())"
      ],
      "metadata": {
        "id": "TjihNPcKxD7s",
        "colab": {
          "base_uri": "https://localhost:8080/"
        },
        "outputId": "ea67c9ed-51d9-465f-e99c-dcd0ff1d3f3f"
      },
      "execution_count": 4,
      "outputs": [
        {
          "output_type": "execute_result",
          "data": {
            "text/plain": [
              "['akas',\n",
              " 'art department',\n",
              " 'aspect ratio',\n",
              " 'assistant director',\n",
              " 'box office',\n",
              " 'camera and electrical department',\n",
              " 'canonical title',\n",
              " 'cast',\n",
              " 'casting department',\n",
              " 'certificates',\n",
              " 'cinematographer',\n",
              " 'color info',\n",
              " 'composer',\n",
              " 'costume department',\n",
              " 'costume designer',\n",
              " 'countries',\n",
              " 'country codes',\n",
              " 'cover url',\n",
              " 'director',\n",
              " 'distributors',\n",
              " 'editor',\n",
              " 'editorial department',\n",
              " 'full-size cover url',\n",
              " 'genres',\n",
              " 'imdbID',\n",
              " 'kind',\n",
              " 'language codes',\n",
              " 'languages',\n",
              " 'localized title',\n",
              " 'location management',\n",
              " 'long imdb canonical title',\n",
              " 'long imdb title',\n",
              " 'make up',\n",
              " 'miscellaneous crew',\n",
              " 'music department',\n",
              " 'original air date',\n",
              " 'original title',\n",
              " 'other companies',\n",
              " 'plot',\n",
              " 'plot outline',\n",
              " 'producer',\n",
              " 'production companies',\n",
              " 'production design',\n",
              " 'production manager',\n",
              " 'rating',\n",
              " 'runtimes',\n",
              " 'script department',\n",
              " 'set decoration',\n",
              " 'smart canonical title',\n",
              " 'smart long imdb canonical title',\n",
              " 'sound crew',\n",
              " 'stunt performer',\n",
              " 'synopsis',\n",
              " 'thanks',\n",
              " 'title',\n",
              " 'transportation department',\n",
              " 'videos',\n",
              " 'visual effects',\n",
              " 'votes',\n",
              " 'writer',\n",
              " 'year']"
            ]
          },
          "metadata": {},
          "execution_count": 4
        }
      ]
    },
    {
      "cell_type": "markdown",
      "source": [
        "# Задачи на работу со строками"
      ],
      "metadata": {
        "id": "YN57OZzX0A-t"
      }
    },
    {
      "cell_type": "code",
      "source": [
        "# для каждого актера фильма\n",
        "# выведите на экран одной строкой\n",
        "# FirstName LastName is an actor in MovieName\n",
        "# используйте конкатенацию и форматирование строк\n",
        "# hint: actor[''] - имя актера\n",
        "# movie['original title'] - название фильма\n",
        "for actor in movie['cast']:\n",
        "  print(f\"{actor['name']} is an actor in {movie['original title']}\")"
      ],
      "metadata": {
        "id": "IHmsLx-YyPCG",
        "colab": {
          "base_uri": "https://localhost:8080/"
        },
        "outputId": "9b1d83b5-9d2f-433c-ad9e-d48c6c414ea8"
      },
      "execution_count": 5,
      "outputs": [
        {
          "output_type": "stream",
          "name": "stdout",
          "text": [
            "Cillian Murphy is an actor in Watching the Detectives\n",
            "Lucy Liu is an actor in Watching the Detectives\n",
            "Jason Sudeikis is an actor in Watching the Detectives\n",
            "Michael Panes is an actor in Watching the Detectives\n",
            "Callie Thorne is an actor in Watching the Detectives\n",
            "Michael Yurchak is an actor in Watching the Detectives\n",
            "Heather Burns is an actor in Watching the Detectives\n",
            "Mark Harelik is an actor in Watching the Detectives\n",
            "Ali Reza is an actor in Watching the Detectives\n",
            "Josh Pais is an actor in Watching the Detectives\n",
            "Brett Gelman is an actor in Watching the Detectives\n",
            "Lonny Ross is an actor in Watching the Detectives\n",
            "Paul Scheer is an actor in Watching the Detectives\n",
            "Richard Waddingham is an actor in Watching the Detectives\n",
            "J.T. O'Connor is an actor in Watching the Detectives\n",
            "Joel Marsh Garland is an actor in Watching the Detectives\n",
            "Erik Stolhanske is an actor in Watching the Detectives\n",
            "Daniel Raymont is an actor in Watching the Detectives\n",
            "Jack Bethke is an actor in Watching the Detectives\n",
            "Bryan Paulk is an actor in Watching the Detectives\n",
            "Katie Davidson is an actor in Watching the Detectives\n",
            "Dennis Gubbins is an actor in Watching the Detectives\n",
            "Rohit Sang is an actor in Watching the Detectives\n",
            "Tara Lynn Orr is an actor in Watching the Detectives\n",
            "Steve Lemme is an actor in Watching the Detectives\n",
            "Anthony St. James is an actor in Watching the Detectives\n",
            "Josh Gad is an actor in Watching the Detectives\n",
            "Connor Fox is an actor in Watching the Detectives\n",
            "Matthew Backer is an actor in Watching the Detectives\n",
            "Alix Elias is an actor in Watching the Detectives\n",
            "Lou Irizarry is an actor in Watching the Detectives\n",
            "Jason Evans Lee is an actor in Watching the Detectives\n",
            "Tommee May is an actor in Watching the Detectives\n",
            "Annie Roig-Pate is an actor in Watching the Detectives\n",
            "Paul Thornton is an actor in Watching the Detectives\n"
          ]
        }
      ]
    },
    {
      "cell_type": "code",
      "source": [
        "# сохраним краткое описание фильма в переменную\n",
        "\n",
        "synopsis = movie['plot'][0]\n",
        "\n",
        "# приведите этот текст к нижнему регистру\n",
        "\n",
        "synopsis_lower = synopsis.lower()\n",
        "\n",
        "# выведите на экран первые 100 символов\n",
        "\n",
        "print(synopsis_lower[:100])\n",
        "\n",
        "print(synopsis_lower.split()[:100])"
      ],
      "metadata": {
        "id": "gWnW9d-9w9fC",
        "colab": {
          "base_uri": "https://localhost:8080/"
        },
        "outputId": "f72f6df6-a575-456e-86e9-793d1d8549f3"
      },
      "execution_count": 6,
      "outputs": [
        {
          "output_type": "stream",
          "name": "stdout",
          "text": [
            "a film noir buff to the extreme is given a taste of his own medicine and has his life turned upside \n",
            "['a', 'film', 'noir', 'buff', 'to', 'the', 'extreme', 'is', 'given', 'a', 'taste', 'of', 'his', 'own', 'medicine', 'and', 'has', 'his', 'life', 'turned', 'upside', 'down', 'by', 'a', 'kooky', 'femme', 'fatale', 'with', 'a', 'big', 'adventure', 'in', 'mind.', 'sometimes', 'love', 'is', 'stranger', 'than', 'fiction.']\n"
          ]
        }
      ]
    },
    {
      "cell_type": "code",
      "source": [
        "# посмотрите, сколько раз повторяются слова из заголовка фильма\n",
        "# для этого приведите название фильма к нижнему регистру\n",
        "# и используйте цикл for, если слов в заголовке несколько\n",
        "\n",
        "for word in movie['original title'].lower().split():\n",
        "  print(word)\n",
        "  print(synopsis_lower.count(word))\n",
        "\n",
        "# разбейте текст на слова и выведете первые 10 слов на экран, не используйте print\n",
        "\n",
        "###print"
      ],
      "metadata": {
        "colab": {
          "base_uri": "https://localhost:8080/"
        },
        "id": "4dGKXECdvQRq",
        "outputId": "45d667f9-c42c-4a51-e02f-1d97bbfad87e"
      },
      "execution_count": 7,
      "outputs": [
        {
          "output_type": "stream",
          "name": "stdout",
          "text": [
            "watching\n",
            "0\n",
            "the\n",
            "1\n",
            "detectives\n",
            "0\n"
          ]
        }
      ]
    },
    {
      "cell_type": "code",
      "source": [
        "# разбейте текст на слова и выведете первые 10 слов на экран, не используйте print\n",
        "text = synopsis_lower.split()\n",
        "text[:11]"
      ],
      "metadata": {
        "colab": {
          "base_uri": "https://localhost:8080/"
        },
        "id": "MVt_QtD2v0SU",
        "outputId": "dc2f2b8a-0e94-4348-e00e-529ee13f9220"
      },
      "execution_count": 8,
      "outputs": [
        {
          "output_type": "execute_result",
          "data": {
            "text/plain": [
              "['a',\n",
              " 'film',\n",
              " 'noir',\n",
              " 'buff',\n",
              " 'to',\n",
              " 'the',\n",
              " 'extreme',\n",
              " 'is',\n",
              " 'given',\n",
              " 'a',\n",
              " 'taste']"
            ]
          },
          "metadata": {},
          "execution_count": 8
        }
      ]
    },
    {
      "cell_type": "markdown",
      "source": [
        "# Задачи на работу со списками"
      ],
      "metadata": {
        "id": "V4_tbOOR7xlZ"
      }
    },
    {
      "cell_type": "code",
      "source": [
        "# создайте список актеров фильма\n",
        "# сначала создайте пустой список\n",
        "# затем используйте цикл for и append\n",
        "\n",
        "actors = []\n",
        "\n",
        "for actor in movie['cast']:\n",
        "  actors.append(actor['name'])\n",
        "\n",
        "\n",
        "# выведите на экран первые 10 актеров из списка\n",
        "\n",
        "actors [:10]"
      ],
      "metadata": {
        "id": "p0XJ2Ib07wqf",
        "outputId": "2bead405-faf8-4b62-c615-b7ca149b6895",
        "colab": {
          "base_uri": "https://localhost:8080/"
        }
      },
      "execution_count": 9,
      "outputs": [
        {
          "output_type": "execute_result",
          "data": {
            "text/plain": [
              "['Cillian Murphy',\n",
              " 'Lucy Liu',\n",
              " 'Jason Sudeikis',\n",
              " 'Michael Panes',\n",
              " 'Callie Thorne',\n",
              " 'Michael Yurchak',\n",
              " 'Heather Burns',\n",
              " 'Mark Harelik',\n",
              " 'Ali Reza',\n",
              " 'Josh Pais']"
            ]
          },
          "metadata": {},
          "execution_count": 9
        }
      ]
    },
    {
      "cell_type": "code",
      "source": [
        "# сгенерируйте список режиссеров фильма\n",
        "# hint: для запроса к имени используйте x['name']\n",
        "\n",
        "directors = [x['name'] for x in movie['directors']]\n",
        "\n",
        "directors\n",
        "\n",
        "# выведите на экран количество режиссеров фильма и их имена\n",
        "# используйте f-форматирование строк и \\n для переноса на новую строку\n",
        "\n",
        "print(f\"Всего режиссеров: {len(directors)}\\n Имена: {' '.join(map(str, directors))}\")"
      ],
      "metadata": {
        "id": "aVekoj5u8SgK",
        "outputId": "dba74f8e-d52c-4071-b70a-d6c2f3b8f474",
        "colab": {
          "base_uri": "https://localhost:8080/"
        }
      },
      "execution_count": 10,
      "outputs": [
        {
          "output_type": "stream",
          "name": "stdout",
          "text": [
            "Всего режиссеров: 1\n",
            " Имена: Paul Soter\n"
          ]
        }
      ]
    },
    {
      "cell_type": "code",
      "source": [
        "# списки тоже можно контатенировать, сложите список актеров и режиссеров\n",
        "# выведите несколько первых и последних элементов списка\n",
        "\n",
        "involved = actors + directors\n",
        "\n",
        "print(involved[:3])\n",
        "print(involved[-3:])\n"
      ],
      "metadata": {
        "id": "r4tYj-JE9qDD",
        "outputId": "81e8466a-9230-4d67-8eda-2986eb4a0775",
        "colab": {
          "base_uri": "https://localhost:8080/"
        }
      },
      "execution_count": 11,
      "outputs": [
        {
          "output_type": "stream",
          "name": "stdout",
          "text": [
            "['Cillian Murphy', 'Lucy Liu', 'Jason Sudeikis']\n",
            "['Annie Roig-Pate', 'Paul Thornton', 'Paul Soter']\n"
          ]
        }
      ]
    },
    {
      "cell_type": "code",
      "source": [
        "# выполните сортировку списка актеров по алфавиту\n",
        "\n",
        "print (sorted(actors)[:5])\n",
        "\n",
        "# удалите в этом списке первый элемент с помощью индексации\n"
      ],
      "metadata": {
        "id": "E2EWKiA6_Ech",
        "outputId": "6cb0316a-b85a-4f1e-e216-a140a6145971",
        "colab": {
          "base_uri": "https://localhost:8080/"
        }
      },
      "execution_count": 12,
      "outputs": [
        {
          "output_type": "stream",
          "name": "stdout",
          "text": [
            "['Ali Reza', 'Alix Elias', 'Annie Roig-Pate', 'Anthony St. James', 'Brett Gelman']\n"
          ]
        }
      ]
    },
    {
      "cell_type": "code",
      "source": [
        "# удалите в этом списке первый элемент с помощью индексации\n",
        "\n",
        "actors.remove(actors[0])\n",
        "print(actors[:5])\n"
      ],
      "metadata": {
        "id": "kjsVt78f5RDV",
        "outputId": "c7fc4ff5-be48-4fac-ae87-a97eff3241c3",
        "colab": {
          "base_uri": "https://localhost:8080/"
        }
      },
      "execution_count": 13,
      "outputs": [
        {
          "output_type": "stream",
          "name": "stdout",
          "text": [
            "['Lucy Liu', 'Jason Sudeikis', 'Michael Panes', 'Callie Thorne', 'Michael Yurchak']\n"
          ]
        }
      ]
    },
    {
      "cell_type": "code",
      "source": [
        "# удалите нелюбимого актера с помощью ввода имен\n",
        "\n",
        "'Jason Sudeikis' not in actors\n",
        "\n"
      ],
      "metadata": {
        "id": "rcYPORwd5aDt",
        "outputId": "3bab20d7-88b1-4ada-ca3d-a977063da908",
        "colab": {
          "base_uri": "https://localhost:8080/"
        }
      },
      "execution_count": 14,
      "outputs": [
        {
          "output_type": "execute_result",
          "data": {
            "text/plain": [
              "False"
            ]
          },
          "metadata": {},
          "execution_count": 14
        }
      ]
    },
    {
      "cell_type": "code",
      "source": [
        "# проверьте, есть ли это имя в списке актеров с помощью in\n",
        "\n",
        "'Jason Sudeikis' in actors"
      ],
      "metadata": {
        "id": "z1aK1JXK5q0I",
        "outputId": "a8f31e25-0fa0-4ab3-80c3-cd11593d1478",
        "colab": {
          "base_uri": "https://localhost:8080/"
        }
      },
      "execution_count": 15,
      "outputs": [
        {
          "output_type": "execute_result",
          "data": {
            "text/plain": [
              "True"
            ]
          },
          "metadata": {},
          "execution_count": 15
        }
      ]
    },
    {
      "cell_type": "markdown",
      "source": [
        "# Задачи на работу со словарями"
      ],
      "metadata": {
        "id": "8sRhKPLTFAuF"
      }
    },
    {
      "cell_type": "code",
      "source": [
        "# создадим карточку любого актера из нашего фильма\n",
        "\n",
        "people = ia.search_person(actors[6])\n",
        "\n",
        "for person in people:\n",
        "   print(person.personID, person['name'])"
      ],
      "metadata": {
        "id": "2PuExDCoEFG_",
        "colab": {
          "base_uri": "https://localhost:8080/"
        },
        "outputId": "edee3666-67eb-4781-e786-8a0f95b402ef"
      },
      "execution_count": 16,
      "outputs": [
        {
          "output_type": "stream",
          "name": "stdout",
          "text": [
            "0362862 Mark Harelik\n",
            "0300490 Muammar Gaddafi\n",
            "7818946 Sagar Kharel\n",
            "13517830 Pierre-Marc Hamelin\n",
            "3743671 Saket Khare\n",
            "2556552 Marc-André Hamelin\n",
            "0330792 Mark Gorelik\n",
            "7599702 Mark Harrell\n",
            "8947414 Mark Harrell\n",
            "0061792 Godfrey Ho\n",
            "3691797 Mark Harrell\n",
            "2978932 Marc-Antoine Hamelin\n",
            "1085772 Sakar Kharel\n",
            "10069473 Henry Markham-Hare\n",
            "8551318 Mark Harrelson\n",
            "7055680 Marek Hanzlík\n",
            "11012876 Sanober Pardiwalla\n",
            "0682862 Bonita Pietila\n",
            "6912056 Mark Harrell\n",
            "8836941 Rajiv Kumar Khare\n"
          ]
        }
      ]
    },
    {
      "cell_type": "code",
      "source": [
        "# запишем в перменную только один результат\n",
        "\n",
        "person = ia.get_person(people[0].personID)"
      ],
      "metadata": {
        "id": "2x_WWik8Indr"
      },
      "execution_count": 18,
      "outputs": []
    },
    {
      "cell_type": "code",
      "source": [
        "person"
      ],
      "metadata": {
        "colab": {
          "base_uri": "https://localhost:8080/"
        },
        "id": "UU84TjoGgUBR",
        "outputId": "cf827707-6b90-4686-d389-745280d8c00e"
      },
      "execution_count": 21,
      "outputs": [
        {
          "output_type": "execute_result",
          "data": {
            "text/plain": [
              "<Person id:0362862[http] name:_Mark Harelik_>"
            ]
          },
          "metadata": {},
          "execution_count": 21
        }
      ]
    },
    {
      "cell_type": "code",
      "source": [
        "person.keys()"
      ],
      "metadata": {
        "colab": {
          "base_uri": "https://localhost:8080/"
        },
        "id": "HWK3eAaQJL0S",
        "outputId": "729c6748-145c-4750-b88c-2ea98210ee8d"
      },
      "execution_count": 22,
      "outputs": [
        {
          "output_type": "execute_result",
          "data": {
            "text/plain": [
              "['headshot',\n",
              " 'imdbID',\n",
              " 'name',\n",
              " 'filmography',\n",
              " 'canonical name',\n",
              " 'long imdb name',\n",
              " 'long imdb canonical name',\n",
              " 'full-size headshot']"
            ]
          },
          "metadata": {},
          "execution_count": 22
        }
      ]
    },
    {
      "cell_type": "code",
      "source": [
        "person.items()"
      ],
      "metadata": {
        "id": "jRE3qJuUJoKv",
        "colab": {
          "base_uri": "https://localhost:8080/"
        },
        "outputId": "23f98845-335b-4788-bef5-60c42accde98"
      },
      "execution_count": 23,
      "outputs": [
        {
          "output_type": "execute_result",
          "data": {
            "text/plain": [
              "[('headshot',\n",
              "  'https://m.media-amazon.com/images/M/MV5BNmZlOWQ1ZGQtZTdiNC00OGE4LTk3MTEtNDg3ZjEwNDZiMzljXkEyXkFqcGdeQXVyMTYzMDA4NDk@._V1_QL75_UY207_CR13,0,140,207_.jpg'),\n",
              " ('imdbID', '0362862'),\n",
              " ('name', 'Mark Harelik'),\n",
              " ('filmography',\n",
              "  {'actor': [<Movie id:5898132[http] title:_Malibu Gothic (None)_>,\n",
              "    <Movie id:5419980[http] title:_Placid Universe Theory (None)_>,\n",
              "    <Movie id:7587890[http] title:_The Rookie (2022)_>,\n",
              "    <Movie id:7203552[http] title:_The Morning Show (2021) (2019)_>,\n",
              "    <Movie id:2077823[http] title:_Perry Mason (2020)_>,\n",
              "    <Movie id:5016504[http] title:_Preacher (2019) (2016)_>,\n",
              "    <Movie id:15892194[http] title:_Passenger List (2019)_>,\n",
              "    <Movie id:6439752[http] title:_Snowfall (2019) (2017)_>,\n",
              "    <Movie id:3609352[http] title:_Grace and Frankie (2019)_>,\n",
              "    <Movie id:3205802[http] title:_How to Get Away with Murder (2018)_>,\n",
              "    <Movie id:7989528[http] title:_Only Children (2018)_>,\n",
              "    <Movie id:6548228[http] title:_Castle Rock (2018)_>,\n",
              "    <Movie id:5212822[http] title:_Imposters (2018) (2017)_>,\n",
              "    <Movie id:4622512[http] title:_Battle of the Sexes (2017)_>,\n",
              "    <Movie id:2342652[http] title:_Getting On (2015) (2013)_>,\n",
              "    <Movie id:3499120[http] title:_Agent X (2015)_>,\n",
              "    <Movie id:2699128[http] title:_The Leftovers (2015)_>,\n",
              "    <Movie id:3203606[http] title:_Trumbo (2015)_>,\n",
              "    <Movie id:3334212[http] title:_This Isn't Funny (2015)_>,\n",
              "    <Movie id:3339966[http] title:_Unbreakable Kimmy Schmidt (2015)_>,\n",
              "    <Movie id:1714204[http] title:_Perception (2014)_>,\n",
              "    <Movie id:1196946[http] title:_The Mentalist (2014)_>,\n",
              "    <Movie id:2340036[http] title:_Family Tree (2013)_>,\n",
              "    <Movie id:0453562[http] title:_42 (2013)_>,\n",
              "    <Movie id:2262383[http] title:_Vegas (2013)_>,\n",
              "    <Movie id:1839683[http] title:_Awake (2012)_>,\n",
              "    <Movie id:1837576[http] title:_Scandal (2012)_>,\n",
              "    <Movie id:1219024[http] title:_Castle (2011)_>,\n",
              "    <Movie id:1486186[http] title:_Meeting Spencer (2011)_>,\n",
              "    <Movie id:1442462[http] title:_The Good Wife (2011)_>,\n",
              "    <Movie id:1235099[http] title:_Lie to Me (2010)_>,\n",
              "    <Movie id:0903747[http] title:_Breaking Bad (2010)_>,\n",
              "    <Movie id:1526585[http] title:_Deadly Honeymoon (2010)_>,\n",
              "    <Movie id:0312172[http] title:_Monk (2009)_>,\n",
              "    <Movie id:1230380[http] title:_The Job (None)_>,\n",
              "    <Movie id:1179794[http] title:_Timer (2009)_>,\n",
              "    <Movie id:0898266[http] title:_The Big Bang Theory (2008) (2007)_>,\n",
              "    <Movie id:0775374[http] title:_Lincoln Heights (2008)_>,\n",
              "    <Movie id:0412175[http] title:_Medium (2008)_>,\n",
              "    <Movie id:0892535[http] title:_Eli Stone (2008)_>,\n",
              "    <Movie id:0925266[http] title:_Pushing Daisies (2007)_>,\n",
              "    <Movie id:0813715[http] title:_Heroes (2007)_>,\n",
              "    <Movie id:0824775[http] title:_State of Mind (2007)_>,\n",
              "    <Movie id:0839847[http] title:_Heartland (2007)_>,\n",
              "    <Movie id:0108757[http] title:_ER (2007)_>,\n",
              "    <Movie id:0472205[http] title:_Watching the Detectives (2007)_>,\n",
              "    <Movie id:0802148[http] title:_Raines (2007)_>,\n",
              "    <Movie id:0455275[http] title:_Prison Break (2007)_>,\n",
              "    <Movie id:0496275[http] title:_Dirt (2007)_>,\n",
              "    <Movie id:0465353[http] title:_Sleeper Cell (2006)_>,\n",
              "    <Movie id:0364828[http] title:_Las Vegas (2006)_>,\n",
              "    <Movie id:0470765[http] title:_For Your Consideration (2006)_>,\n",
              "    <Movie id:0458253[http] title:_The Closer (2006)_>,\n",
              "    <Movie id:0460690[http] title:_The Unit (2006)_>,\n",
              "    <Movie id:0460627[http] title:_Bones (2006)_>,\n",
              "    <Movie id:0364845[http] title:_NCIS (2006)_>,\n",
              "    <Movie id:0413573[http] title:_Grey's Anatomy (2006)_>,\n",
              "    <Movie id:0461721[http] title:_Four Kings (2006)_>,\n",
              "    <Movie id:0433309[http] title:_Numb3rs (2005)_>,\n",
              "    <Movie id:0238784[http] title:_Gilmore Girls (2005)_>,\n",
              "    <Movie id:0248654[http] title:_Six Feet Under (2005)_>,\n",
              "    <Movie id:13019570[http] title:_Mystery Woman (2005)_>,\n",
              "    <Movie id:0412142[http] title:_House (2005)_>,\n",
              "    <Movie id:0410975[http] title:_Desperate Housewives (2005)_>,\n",
              "    <Movie id:0411011[http] title:_Medical Investigation (2004)_>,\n",
              "    <Movie id:0157246[http] title:_Will & Grace (2004)_>,\n",
              "    <Movie id:0371495[http] title:_Wild Card (2004)_>,\n",
              "    <Movie id:0349416[http] title:_Eulogy (2004)_>,\n",
              "    <Movie id:0365969[http] title:_10-8: Officers on Duty (2003)_>,\n",
              "    <Movie id:0313043[http] title:_CSI: Miami (2003)_>,\n",
              "    <Movie id:0315091[http] title:_War Stories (2003)_>,\n",
              "    <Movie id:0162065[http] title:_Angel (2002)_>,\n",
              "    <Movie id:0262994[http] title:_Thieves (2001)_>,\n",
              "    <Movie id:0163025[http] title:_Jurassic Park III (2001)_>,\n",
              "    <Movie id:0105986[http] title:_Diagnosis Murder (2001)_>,\n",
              "    <Movie id:0213708[http] title:_Hefner: Unauthorized (1999)_>,\n",
              "    <Movie id:0212885[http] title:_Come On, Get Happy: The Partridge Family Story (1999)_>,\n",
              "    <Movie id:0105958[http] title:_Boy Meets World (1999)_>,\n",
              "    <Movie id:0212662[http] title:_Get Real (1999)_>,\n",
              "    <Movie id:0126886[http] title:_Election (1999)_>,\n",
              "    <Movie id:0118411[http] title:_Nothing Sacred (1998)_>,\n",
              "    <Movie id:0167429[http] title:_The Swan Princess: Sing Along (1998)_>,\n",
              "    <Movie id:0112178[http] title:_Star Trek: Voyager (1998)_>,\n",
              "    <Movie id:0118506[http] title:_Veronica's Closet (1998)_>,\n",
              "    <Movie id:0137314[http] title:_LateLine (1998)_>,\n",
              "    <Movie id:0118431[http] title:_Players (1997)_>,\n",
              "    <Movie id:0118437[http] title:_The Practice (1997)_>,\n",
              "    <Movie id:0098904[http] title:_Seinfeld (1997)_>,\n",
              "    <Movie id:0106017[http] title:_Grace Under Fire (1996)_>,\n",
              "    <Movie id:0112163[http] title:_The Single Guy (1996) (1995)_>,\n",
              "    <Movie id:0111877[http] title:_Almost Perfect (1996) (1995)_>,\n",
              "    <Movie id:0098948[http] title:_Wings (1996) (1993)_>,\n",
              "    <Movie id:0103512[http] title:_Picket Fences (1996)_>,\n",
              "    <Movie id:0113894[http] title:_My Brother's Keeper (1995)_>,\n",
              "    <Movie id:0111333[http] title:_The Swan Princess (1994)_>,\n",
              "    <Movie id:0103437[http] title:_Hearts Afire (1993)_>,\n",
              "    <Movie id:0083399[http] title:_Cheers (1993)_>,\n",
              "    <Movie id:0106356[http] title:_Barbarians at the Gate (1993)_>,\n",
              "    <Movie id:0109912[http] title:_A Gnome Named Gnorm (1990)_>,\n",
              "    <Movie id:0100848[http] title:_Unspeakable Acts (1990)_>,\n",
              "    <Movie id:0083391[http] title:_Bring 'Em Back Alive (1983)_>],\n",
              "   'soundtrack': [<Movie id:0463857[http] title:_The 59th Annual Tony Awards (2005)_>,\n",
              "    <Movie id:0167429[http] title:_The Swan Princess: Sing Along (1998)_>,\n",
              "    <Movie id:0111333[http] title:_The Swan Princess (1994)_>],\n",
              "   'thanks': [<Movie id:3726704[http] title:_Experimenter (2015)_>],\n",
              "   'self': [<Movie id:13087846[http] title:_Let's Dive In (2020)_>,\n",
              "    <Movie id:5518568[http] title:_TruInside (2016)_>,\n",
              "    <Movie id:0463857[http] title:_The 59th Annual Tony Awards (2005)_>],\n",
              "   'archive footage': [<Movie id:4329244[http] title:_Larry Kramer in Love and Anger (2015)_>,\n",
              "    <Movie id:5885804[http] title:_Seinfeld: Inside Look (2007)_>,\n",
              "    <Movie id:0098948[http] title:_Wings (1995)_>]}),\n",
              " ('canonical name', 'Harelik, Mark'),\n",
              " ('long imdb name', 'Mark Harelik'),\n",
              " ('long imdb canonical name', 'Harelik, Mark'),\n",
              " ('full-size headshot',\n",
              "  'https://m.media-amazon.com/images/M/MV5BNmZlOWQ1ZGQtZTdiNC00OGE4LTk3MTEtNDg3ZjEwNDZiMzljXkEyXkFqcGdeQXVyMTYzMDA4NDk@.jpg')]"
            ]
          },
          "metadata": {},
          "execution_count": 23
        }
      ]
    },
    {
      "cell_type": "code",
      "source": [
        "# составим из этих элементов карточку следующего вида\n",
        "# [\n",
        "#    актер :\n",
        "#             {\n",
        "#               фильмы : список фильмов\n",
        "#               жанры : список жанров\n",
        "#             }\n",
        "# ]\n",
        "#\n",
        "# начнем с созднания списка фильмов\n",
        "# создаем пустой список\n",
        "\n",
        "films = []\n",
        "\n",
        "\n",
        "# для каждого фильма в person['filmography']['actor']\n",
        "# вносим в список новый элемент\n",
        "\n",
        "for title in person ['filmography']['actor']:\n",
        "  temp = title['title']\n",
        "  films.append(temp)\n",
        "\n",
        "films[:10]\n",
        "\n"
      ],
      "metadata": {
        "id": "rqL8zMq8JrTw",
        "colab": {
          "base_uri": "https://localhost:8080/"
        },
        "outputId": "e01151b4-9e46-4bd3-fbb6-6e00abb771ce"
      },
      "execution_count": 27,
      "outputs": [
        {
          "output_type": "execute_result",
          "data": {
            "text/plain": [
              "['Malibu Gothic',\n",
              " 'Placid Universe Theory',\n",
              " 'The Rookie',\n",
              " 'The Morning Show',\n",
              " 'Perry Mason',\n",
              " 'Preacher',\n",
              " 'Passenger List',\n",
              " 'Snowfall',\n",
              " 'Grace and Frankie',\n",
              " 'How to Get Away with Murder']"
            ]
          },
          "metadata": {},
          "execution_count": 27
        }
      ]
    },
    {
      "cell_type": "code",
      "source": [
        "# теперь для каждого из найденных фильмов извлечем жанр\n",
        "# и тоже запишем все это в список\n",
        "\n",
        "# создаем пустой список для жанров\n",
        "\n",
        "genres = []\n",
        "\n",
        "# для каждого фильма из списка с фильмами\n",
        "# ищем подходящие фильмы в IMDB: ia.search_movie()\n",
        "# записываем в переменную ID этого фильма: ia.get_movie(movie.movieID)\n",
        "# извлекаем жанры, записываем во временную переменную\n",
        "# записываем жанры в список жанров\n",
        "\n",
        "for title in films[:10]:\n",
        "  film_list = ia.search_movie(title)\n",
        "  film = ia.get_movie(film_list[0].movieID)\n",
        "  temp = film['genres'][0]\n",
        "  genres.append(temp)\n",
        "\n",
        "genres"
      ],
      "metadata": {
        "id": "MdMA4jSBK5yZ",
        "colab": {
          "base_uri": "https://localhost:8080/"
        },
        "outputId": "385391d4-5b2c-4eed-c145-5fd99fdaa6f5"
      },
      "execution_count": 29,
      "outputs": [
        {
          "output_type": "execute_result",
          "data": {
            "text/plain": [
              "['Mystery',\n",
              " 'Short',\n",
              " 'Action',\n",
              " 'Drama',\n",
              " 'Crime',\n",
              " 'Action',\n",
              " 'Drama',\n",
              " 'Crime',\n",
              " 'Comedy',\n",
              " 'Crime']"
            ]
          },
          "metadata": {},
          "execution_count": 29
        }
      ]
    },
    {
      "cell_type": "code",
      "source": [
        "# наши жанры повторяются\n",
        "\n",
        "genres"
      ],
      "metadata": {
        "colab": {
          "base_uri": "https://localhost:8080/"
        },
        "id": "8Z36xTMcK6Xs",
        "outputId": "2889c12e-2376-4b4c-851f-351f485029ba"
      },
      "execution_count": 30,
      "outputs": [
        {
          "output_type": "execute_result",
          "data": {
            "text/plain": [
              "['Mystery',\n",
              " 'Short',\n",
              " 'Action',\n",
              " 'Drama',\n",
              " 'Crime',\n",
              " 'Action',\n",
              " 'Drama',\n",
              " 'Crime',\n",
              " 'Comedy',\n",
              " 'Crime']"
            ]
          },
          "metadata": {},
          "execution_count": 30
        }
      ]
    },
    {
      "cell_type": "code",
      "source": [
        "# преобразуем список во множество\n",
        "\n",
        "genres = set(genres)\n",
        "genres"
      ],
      "metadata": {
        "colab": {
          "base_uri": "https://localhost:8080/"
        },
        "id": "CZoZrdoLNs0l",
        "outputId": "9ffadab7-8e99-44f6-e58e-197e5aca7b38"
      },
      "execution_count": 32,
      "outputs": [
        {
          "output_type": "execute_result",
          "data": {
            "text/plain": [
              "{'Action', 'Comedy', 'Crime', 'Drama', 'Mystery', 'Short'}"
            ]
          },
          "metadata": {},
          "execution_count": 32
        }
      ]
    },
    {
      "cell_type": "code",
      "source": [
        "# теперь мы можем собрать информацию об актере в карточку\n",
        "# [\n",
        "#    актер :\n",
        "#             {\n",
        "#               фильмы : список фильмов\n",
        "#               жанры : список жанров\n",
        "#             }\n",
        "# ]\n",
        "#\n",
        "\n",
        "# сначала создаем словарь с фильмами и жанрами\n",
        "\n",
        "actor = dict()\n",
        "actor['films'] = films\n",
        "actor['genres'] = genres\n"
      ],
      "metadata": {
        "id": "_RtAgCoRN033"
      },
      "execution_count": 49,
      "outputs": []
    },
    {
      "cell_type": "code",
      "source": [
        "# теперь временный словарь, в котором мы соединим эту информацию с именем актера\n",
        "\n",
        "temp = dict()\n",
        "temp[person['name']] = actor\n",
        "\n",
        "temp"
      ],
      "metadata": {
        "id": "pjxwcxH9OTk3",
        "colab": {
          "base_uri": "https://localhost:8080/"
        },
        "outputId": "960643b0-9119-4d62-dc31-b30b002c398a"
      },
      "execution_count": 48,
      "outputs": [
        {
          "output_type": "execute_result",
          "data": {
            "text/plain": [
              "{'Mark Harelik': {'films': [],\n",
              "  'genres': {'Action', 'Comedy', 'Crime', 'Drama', 'Mystery', 'Short'}}}"
            ]
          },
          "metadata": {},
          "execution_count": 48
        }
      ]
    },
    {
      "cell_type": "code",
      "source": [
        "# карточка готова, но мы наверняка захотим добавить туда еще актеров\n",
        "# создаем хранилище карточек в виде списка и вносим туда первую карточку с append\n",
        "\n",
        "cards = []\n",
        "cards.append(temp)\n",
        "\n",
        "cards"
      ],
      "metadata": {
        "colab": {
          "base_uri": "https://localhost:8080/"
        },
        "id": "sPE1W57QPNYp",
        "outputId": "53b532ab-796c-46df-8643-7703a1427484"
      },
      "execution_count": 50,
      "outputs": [
        {
          "output_type": "execute_result",
          "data": {
            "text/plain": [
              "[{'Mark Harelik': {'films': [],\n",
              "   'genres': {'Action', 'Comedy', 'Crime', 'Drama', 'Mystery', 'Short'}}}]"
            ]
          },
          "metadata": {},
          "execution_count": 50
        }
      ]
    },
    {
      "cell_type": "markdown",
      "source": [
        "Задание:\n",
        "\n",
        "- Создать карточки для 5 актеров одного (любого фильма) - можно больше, главное, чтобы ваш код масштабировался до любого количества актеров\n",
        "- В карточке каждого актера должна содержаться следующая информация:\n",
        " * фильмография в качестве актера\n",
        " * несколько жанров\n",
        " * год выпуска фильмов, где снимался актер\n",
        " * языки, на которых сняты эти фильмы\n",
        " * рейтинги этих фильмов\n",
        "\n",
        "Создание карточек должно быть автоматизировано: за один цикл работы программы должна создаваться одна карточка. Чтобы программа не работала слишком долго, можно сократить количество извлеченных фильмов до пяти, извлекать только один жанр, один язык, где их несколько.\n",
        "\n",
        "Если этого мало: используйте функции для своей работы (аргументами функции может быть количество актеров, количество фильмов и т.д.), добавьте к фильмографии синопсисы."
      ],
      "metadata": {
        "id": "d-Q6tLj6QVUj"
      }
    }
  ]
}